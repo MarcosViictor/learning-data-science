{
 "cells": [
  {
   "cell_type": "markdown",
   "metadata": {
    "id": "wa9zKgbYEXQT"
   },
   "source": [
    "#Introdução ao Python da [Data School](http://www.dataschool.io/)"
   ]
  },
  {
   "cell_type": "markdown",
   "metadata": {
    "id": "jdf3JpL9EXQY"
   },
   "source": [
    "## Conteúdo\n",
    "\n",
    "1. Imports\n",
    "2. Tipos de dados\n",
    "3. Operações matemáticas\n",
    "4. Comparações\n",
    "5. Condicionais\n",
    "6. Listas\n",
    "7. Tuplas\n",
    "8. Strings\n",
    "9. Dicionários\n",
    "10. Funções\n",
    "11. Funções anonimas (Lambda)\n",
    "12. Laços\n",
    "13. Relative x Absolute paths\n",
    "14. Map e Filter\n",
    "\n",
    "*Fonte: [GitHub repository](https://github.com/justmarkham/python-reference)*"
   ]
  },
  {
   "cell_type": "markdown",
   "metadata": {
    "id": "yII35AFpEXQZ"
   },
   "source": [
    "## 1. Imports"
   ]
  },
  {
   "cell_type": "code",
   "execution_count": 1,
   "metadata": {
    "colab": {
     "base_uri": "https://localhost:8080/"
    },
    "executionInfo": {
     "elapsed": 21,
     "status": "ok",
     "timestamp": 1754937048172,
     "user": {
      "displayName": "Alexsandro Oliveira Alexandrino",
      "userId": "14959848670292000444"
     },
     "user_tz": 180
    },
    "id": "9_9XWFxjEXQZ",
    "outputId": "8fe48a74-00e9-42b7-8e5f-0d51eb6ccb4c"
   },
   "outputs": [
    {
     "data": {
      "text/plain": [
       "5.0"
      ]
     },
     "execution_count": 1,
     "metadata": {},
     "output_type": "execute_result"
    }
   ],
   "source": [
    "# import genérico\n",
    "import math\n",
    "math.sqrt(25)"
   ]
  },
  {
   "cell_type": "code",
   "execution_count": 2,
   "metadata": {
    "colab": {
     "base_uri": "https://localhost:8080/"
    },
    "executionInfo": {
     "elapsed": 18,
     "status": "ok",
     "timestamp": 1754937048194,
     "user": {
      "displayName": "Alexsandro Oliveira Alexandrino",
      "userId": "14959848670292000444"
     },
     "user_tz": 180
    },
    "id": "2UqsNE8WEXQc",
    "outputId": "5351a92e-bd40-4f67-a8ed-58d1da4c9417"
   },
   "outputs": [
    {
     "data": {
      "text/plain": [
       "5.0"
      ]
     },
     "execution_count": 2,
     "metadata": {},
     "output_type": "execute_result"
    }
   ],
   "source": [
    "# import de uma função\n",
    "from math import sqrt\n",
    "sqrt(25)    # não precisa referenciar o módulo"
   ]
  },
  {
   "cell_type": "code",
   "execution_count": 3,
   "metadata": {
    "executionInfo": {
     "elapsed": 9,
     "status": "ok",
     "timestamp": 1754937048195,
     "user": {
      "displayName": "Alexsandro Oliveira Alexandrino",
      "userId": "14959848670292000444"
     },
     "user_tz": 180
    },
    "id": "5f-6MwPEEXQc"
   },
   "outputs": [],
   "source": [
    "# import de multiplas funções\n",
    "from math import cos, floor"
   ]
  },
  {
   "cell_type": "code",
   "execution_count": 4,
   "metadata": {
    "executionInfo": {
     "elapsed": 10,
     "status": "ok",
     "timestamp": 1754937048200,
     "user": {
      "displayName": "Alexsandro Oliveira Alexandrino",
      "userId": "14959848670292000444"
     },
     "user_tz": 180
    },
    "id": "AB4NHT8ZEXQd"
   },
   "outputs": [],
   "source": [
    "# import de todas as funções de um módulo\n",
    "from csv import *"
   ]
  },
  {
   "cell_type": "code",
   "execution_count": 5,
   "metadata": {
    "executionInfo": {
     "elapsed": 6,
     "status": "ok",
     "timestamp": 1754937048204,
     "user": {
      "displayName": "Alexsandro Oliveira Alexandrino",
      "userId": "14959848670292000444"
     },
     "user_tz": 180
    },
    "id": "pcyBzad7EXQd"
   },
   "outputs": [],
   "source": [
    "# definindo um alias\n",
    "import datetime as dt"
   ]
  },
  {
   "cell_type": "markdown",
   "metadata": {
    "id": "MJXtasGfEXQe"
   },
   "source": [
    "## 2. Tipos de Dados\n",
    "\n",
    "**Determinando o tipo de um objeto:**"
   ]
  },
  {
   "cell_type": "code",
   "execution_count": 6,
   "metadata": {
    "colab": {
     "base_uri": "https://localhost:8080/"
    },
    "executionInfo": {
     "elapsed": 11,
     "status": "ok",
     "timestamp": 1754937048223,
     "user": {
      "displayName": "Alexsandro Oliveira Alexandrino",
      "userId": "14959848670292000444"
     },
     "user_tz": 180
    },
    "id": "56ttvg2JEXQe",
    "outputId": "2cc6f7d8-d301-455b-9a4a-58fc12eb92d4"
   },
   "outputs": [
    {
     "data": {
      "text/plain": [
       "int"
      ]
     },
     "execution_count": 6,
     "metadata": {},
     "output_type": "execute_result"
    }
   ],
   "source": [
    "type(2)"
   ]
  },
  {
   "cell_type": "code",
   "execution_count": 7,
   "metadata": {
    "colab": {
     "base_uri": "https://localhost:8080/"
    },
    "executionInfo": {
     "elapsed": 10,
     "status": "ok",
     "timestamp": 1754937048236,
     "user": {
      "displayName": "Alexsandro Oliveira Alexandrino",
      "userId": "14959848670292000444"
     },
     "user_tz": 180
    },
    "id": "4aLwvIfiEXQf",
    "outputId": "aa639787-2d0d-498c-a519-e76f022de05f"
   },
   "outputs": [
    {
     "data": {
      "text/plain": [
       "float"
      ]
     },
     "execution_count": 7,
     "metadata": {},
     "output_type": "execute_result"
    }
   ],
   "source": [
    "type(2.0)"
   ]
  },
  {
   "cell_type": "code",
   "execution_count": 8,
   "metadata": {
    "colab": {
     "base_uri": "https://localhost:8080/"
    },
    "executionInfo": {
     "elapsed": 9,
     "status": "ok",
     "timestamp": 1754937048248,
     "user": {
      "displayName": "Alexsandro Oliveira Alexandrino",
      "userId": "14959848670292000444"
     },
     "user_tz": 180
    },
    "id": "qDCJNbqQEXQf",
    "outputId": "9ba9024d-7e95-4a30-d3e2-924b01ea2f85"
   },
   "outputs": [
    {
     "data": {
      "text/plain": [
       "str"
      ]
     },
     "execution_count": 8,
     "metadata": {},
     "output_type": "execute_result"
    }
   ],
   "source": [
    "type('two')"
   ]
  },
  {
   "cell_type": "code",
   "execution_count": 9,
   "metadata": {
    "colab": {
     "base_uri": "https://localhost:8080/"
    },
    "executionInfo": {
     "elapsed": 9,
     "status": "ok",
     "timestamp": 1754937048260,
     "user": {
      "displayName": "Alexsandro Oliveira Alexandrino",
      "userId": "14959848670292000444"
     },
     "user_tz": 180
    },
    "id": "GVBlo_LlEXQg",
    "outputId": "061f83cc-f156-48c2-e369-f7005529b34c"
   },
   "outputs": [
    {
     "data": {
      "text/plain": [
       "bool"
      ]
     },
     "execution_count": 9,
     "metadata": {},
     "output_type": "execute_result"
    }
   ],
   "source": [
    "type(True)"
   ]
  },
  {
   "cell_type": "code",
   "execution_count": 10,
   "metadata": {
    "colab": {
     "base_uri": "https://localhost:8080/"
    },
    "executionInfo": {
     "elapsed": 10,
     "status": "ok",
     "timestamp": 1754937048273,
     "user": {
      "displayName": "Alexsandro Oliveira Alexandrino",
      "userId": "14959848670292000444"
     },
     "user_tz": 180
    },
    "id": "TRBup7ZNEXQg",
    "outputId": "2b523cc0-1ae3-440f-f061-895882ef02f1"
   },
   "outputs": [
    {
     "data": {
      "text/plain": [
       "NoneType"
      ]
     },
     "execution_count": 10,
     "metadata": {},
     "output_type": "execute_result"
    }
   ],
   "source": [
    "type(None)"
   ]
  },
  {
   "cell_type": "markdown",
   "metadata": {
    "id": "QYdf3Ys2EXQh"
   },
   "source": [
    "**Verifica se um objeto é de um tipo dado:**"
   ]
  },
  {
   "cell_type": "code",
   "execution_count": 11,
   "metadata": {
    "colab": {
     "base_uri": "https://localhost:8080/"
    },
    "executionInfo": {
     "elapsed": 9,
     "status": "ok",
     "timestamp": 1754937048286,
     "user": {
      "displayName": "Alexsandro Oliveira Alexandrino",
      "userId": "14959848670292000444"
     },
     "user_tz": 180
    },
    "id": "LhFm6efsEXQh",
    "outputId": "e3fc6526-2469-418f-bb5f-b28328609009"
   },
   "outputs": [
    {
     "data": {
      "text/plain": [
       "False"
      ]
     },
     "execution_count": 11,
     "metadata": {},
     "output_type": "execute_result"
    }
   ],
   "source": [
    "isinstance(2.0, int)"
   ]
  },
  {
   "cell_type": "code",
   "execution_count": 12,
   "metadata": {
    "colab": {
     "base_uri": "https://localhost:8080/"
    },
    "executionInfo": {
     "elapsed": 9,
     "status": "ok",
     "timestamp": 1754937048299,
     "user": {
      "displayName": "Alexsandro Oliveira Alexandrino",
      "userId": "14959848670292000444"
     },
     "user_tz": 180
    },
    "id": "PH8-1g7REXQi",
    "outputId": "92b233cb-ad40-4b70-d8fd-f8580f1b9e59"
   },
   "outputs": [
    {
     "data": {
      "text/plain": [
       "True"
      ]
     },
     "execution_count": 12,
     "metadata": {},
     "output_type": "execute_result"
    }
   ],
   "source": [
    "isinstance(2.0, (int, float))"
   ]
  },
  {
   "cell_type": "markdown",
   "metadata": {
    "id": "iBUjtGQKEXQi"
   },
   "source": [
    "**Conversão:**"
   ]
  },
  {
   "cell_type": "code",
   "execution_count": 13,
   "metadata": {
    "colab": {
     "base_uri": "https://localhost:8080/"
    },
    "executionInfo": {
     "elapsed": 8,
     "status": "ok",
     "timestamp": 1754937048310,
     "user": {
      "displayName": "Alexsandro Oliveira Alexandrino",
      "userId": "14959848670292000444"
     },
     "user_tz": 180
    },
    "id": "u8CpB7AsEXQi",
    "outputId": "345eee14-bcc9-4268-93ac-0ebab43c3b0b"
   },
   "outputs": [
    {
     "data": {
      "text/plain": [
       "2.0"
      ]
     },
     "execution_count": 13,
     "metadata": {},
     "output_type": "execute_result"
    }
   ],
   "source": [
    "float(2)"
   ]
  },
  {
   "cell_type": "code",
   "execution_count": 14,
   "metadata": {
    "colab": {
     "base_uri": "https://localhost:8080/"
    },
    "executionInfo": {
     "elapsed": 9,
     "status": "ok",
     "timestamp": 1754937048323,
     "user": {
      "displayName": "Alexsandro Oliveira Alexandrino",
      "userId": "14959848670292000444"
     },
     "user_tz": 180
    },
    "id": "QxmUg5ENEXQj",
    "outputId": "974e138f-8b59-4852-bd87-e58f2961e928"
   },
   "outputs": [
    {
     "data": {
      "text/plain": [
       "2"
      ]
     },
     "execution_count": 14,
     "metadata": {},
     "output_type": "execute_result"
    }
   ],
   "source": [
    "int(2.9)"
   ]
  },
  {
   "cell_type": "code",
   "execution_count": 15,
   "metadata": {
    "colab": {
     "base_uri": "https://localhost:8080/",
     "height": 36
    },
    "executionInfo": {
     "elapsed": 20,
     "status": "ok",
     "timestamp": 1754937048346,
     "user": {
      "displayName": "Alexsandro Oliveira Alexandrino",
      "userId": "14959848670292000444"
     },
     "user_tz": 180
    },
    "id": "TTFvTHkxEXQk",
    "outputId": "93f43ad0-5a51-43bd-f997-7cfb802c239f"
   },
   "outputs": [
    {
     "data": {
      "application/vnd.google.colaboratory.intrinsic+json": {
       "type": "string"
      },
      "text/plain": [
       "'2.9'"
      ]
     },
     "execution_count": 15,
     "metadata": {},
     "output_type": "execute_result"
    }
   ],
   "source": [
    "str(2.9)"
   ]
  },
  {
   "cell_type": "markdown",
   "metadata": {
    "id": "9hSY5KB4EXQk"
   },
   "source": [
    "**Zero, `None`, e empty containers são ditos como `False`:**"
   ]
  },
  {
   "cell_type": "code",
   "execution_count": 16,
   "metadata": {
    "colab": {
     "base_uri": "https://localhost:8080/"
    },
    "executionInfo": {
     "elapsed": 18,
     "status": "ok",
     "timestamp": 1754937048349,
     "user": {
      "displayName": "Alexsandro Oliveira Alexandrino",
      "userId": "14959848670292000444"
     },
     "user_tz": 180
    },
    "id": "RfUo5TvsEXQk",
    "outputId": "bd82ff50-f80f-4259-c00e-8105ad4153e9"
   },
   "outputs": [
    {
     "data": {
      "text/plain": [
       "False"
      ]
     },
     "execution_count": 16,
     "metadata": {},
     "output_type": "execute_result"
    }
   ],
   "source": [
    "bool(0)"
   ]
  },
  {
   "cell_type": "code",
   "execution_count": 17,
   "metadata": {
    "colab": {
     "base_uri": "https://localhost:8080/"
    },
    "executionInfo": {
     "elapsed": 13,
     "status": "ok",
     "timestamp": 1754937048364,
     "user": {
      "displayName": "Alexsandro Oliveira Alexandrino",
      "userId": "14959848670292000444"
     },
     "user_tz": 180
    },
    "id": "900_vwiKEXQl",
    "outputId": "62c344ac-61bb-4b69-f93a-a2dfce727936"
   },
   "outputs": [
    {
     "data": {
      "text/plain": [
       "False"
      ]
     },
     "execution_count": 17,
     "metadata": {},
     "output_type": "execute_result"
    }
   ],
   "source": [
    "bool(None)"
   ]
  },
  {
   "cell_type": "code",
   "execution_count": 18,
   "metadata": {
    "colab": {
     "base_uri": "https://localhost:8080/"
    },
    "executionInfo": {
     "elapsed": 10,
     "status": "ok",
     "timestamp": 1754937048379,
     "user": {
      "displayName": "Alexsandro Oliveira Alexandrino",
      "userId": "14959848670292000444"
     },
     "user_tz": 180
    },
    "id": "jkHTfWt7EXQl",
    "outputId": "7d053ace-3804-4d65-a3a3-50934ffa1150"
   },
   "outputs": [
    {
     "data": {
      "text/plain": [
       "False"
      ]
     },
     "execution_count": 18,
     "metadata": {},
     "output_type": "execute_result"
    }
   ],
   "source": [
    "bool('')    # string vazia"
   ]
  },
  {
   "cell_type": "code",
   "execution_count": 19,
   "metadata": {
    "colab": {
     "base_uri": "https://localhost:8080/"
    },
    "executionInfo": {
     "elapsed": 14,
     "status": "ok",
     "timestamp": 1754937048396,
     "user": {
      "displayName": "Alexsandro Oliveira Alexandrino",
      "userId": "14959848670292000444"
     },
     "user_tz": 180
    },
    "id": "aMX_suY3EXQl",
    "outputId": "31db7859-5c84-47be-d8c2-8f87a82b8df5"
   },
   "outputs": [
    {
     "data": {
      "text/plain": [
       "False"
      ]
     },
     "execution_count": 19,
     "metadata": {},
     "output_type": "execute_result"
    }
   ],
   "source": [
    "bool([])    # lista vazia"
   ]
  },
  {
   "cell_type": "code",
   "execution_count": 20,
   "metadata": {
    "colab": {
     "base_uri": "https://localhost:8080/"
    },
    "executionInfo": {
     "elapsed": 12,
     "status": "ok",
     "timestamp": 1754937048404,
     "user": {
      "displayName": "Alexsandro Oliveira Alexandrino",
      "userId": "14959848670292000444"
     },
     "user_tz": 180
    },
    "id": "75eSeFmHEXQm",
    "outputId": "f0aafc21-8ecb-4870-86c7-02a6699b9603"
   },
   "outputs": [
    {
     "data": {
      "text/plain": [
       "False"
      ]
     },
     "execution_count": 20,
     "metadata": {},
     "output_type": "execute_result"
    }
   ],
   "source": [
    "bool({})    # diccionário vazio"
   ]
  },
  {
   "cell_type": "markdown",
   "metadata": {
    "id": "RyByQZ_HEXQm"
   },
   "source": [
    "**Non-empty containers e non-zeros são ditos como `True`:**"
   ]
  },
  {
   "cell_type": "code",
   "execution_count": 21,
   "metadata": {
    "colab": {
     "base_uri": "https://localhost:8080/"
    },
    "executionInfo": {
     "elapsed": 8,
     "status": "ok",
     "timestamp": 1754937048414,
     "user": {
      "displayName": "Alexsandro Oliveira Alexandrino",
      "userId": "14959848670292000444"
     },
     "user_tz": 180
    },
    "id": "VK39I7yVEXQm",
    "outputId": "1840d1e8-5ca6-44a1-b714-4e73f2bf6a8b"
   },
   "outputs": [
    {
     "data": {
      "text/plain": [
       "True"
      ]
     },
     "execution_count": 21,
     "metadata": {},
     "output_type": "execute_result"
    }
   ],
   "source": [
    "bool(2)"
   ]
  },
  {
   "cell_type": "code",
   "execution_count": 22,
   "metadata": {
    "colab": {
     "base_uri": "https://localhost:8080/"
    },
    "executionInfo": {
     "elapsed": 10,
     "status": "ok",
     "timestamp": 1754937048428,
     "user": {
      "displayName": "Alexsandro Oliveira Alexandrino",
      "userId": "14959848670292000444"
     },
     "user_tz": 180
    },
    "id": "BYsxDdwdEXQm",
    "outputId": "64aa6c11-5677-42e4-b742-4910ba9a3003"
   },
   "outputs": [
    {
     "data": {
      "text/plain": [
       "True"
      ]
     },
     "execution_count": 22,
     "metadata": {},
     "output_type": "execute_result"
    }
   ],
   "source": [
    "bool('two')"
   ]
  },
  {
   "cell_type": "code",
   "execution_count": 23,
   "metadata": {
    "colab": {
     "base_uri": "https://localhost:8080/"
    },
    "executionInfo": {
     "elapsed": 13,
     "status": "ok",
     "timestamp": 1754937048444,
     "user": {
      "displayName": "Alexsandro Oliveira Alexandrino",
      "userId": "14959848670292000444"
     },
     "user_tz": 180
    },
    "id": "nFTBoh3GEXQm",
    "outputId": "c17c9200-da5f-40cc-ba4c-e92a823e1f23"
   },
   "outputs": [
    {
     "data": {
      "text/plain": [
       "True"
      ]
     },
     "execution_count": 23,
     "metadata": {},
     "output_type": "execute_result"
    }
   ],
   "source": [
    "bool([2])"
   ]
  },
  {
   "cell_type": "markdown",
   "metadata": {
    "id": "UL84CkQCEXQm"
   },
   "source": [
    "**range**\n",
    "\n",
    "Uma sequência imutável que é comumente usada para looping. A vantagem do tipo de range é que um objeto de range sempre ocupará a mesma quantidade de memória, independentemente do tamanho do intervalo que representa. Uso: range(inicio, fim, pass), onde:\n",
    "\n",
    "inicio (opcional, padrão: 0): int especificando o número inicial do intervalo\n",
    "\n",
    "fim (obrigatório): int especificando o número final do intervalo (NÃO INCLUÍDO !!!!)\n",
    "\n",
    "passo (opcional, defailt: 1): int especificando o incremento"
   ]
  },
  {
   "cell_type": "code",
   "execution_count": 24,
   "metadata": {
    "colab": {
     "base_uri": "https://localhost:8080/"
    },
    "executionInfo": {
     "elapsed": 13,
     "status": "ok",
     "timestamp": 1754937048453,
     "user": {
      "displayName": "Alexsandro Oliveira Alexandrino",
      "userId": "14959848670292000444"
     },
     "user_tz": 180
    },
    "id": "8CttyYMEEXQn",
    "outputId": "c7e5fb8b-1bf8-4479-a595-516b92821417"
   },
   "outputs": [
    {
     "name": "stdout",
     "output_type": "stream",
     "text": [
      "range(0, 10)\n",
      "<class 'range'>\n"
     ]
    }
   ],
   "source": [
    "# Cria um tipo range simples\n",
    "a = range(10)\n",
    "print(a)\n",
    "print(type(a))"
   ]
  },
  {
   "cell_type": "code",
   "execution_count": 25,
   "metadata": {
    "colab": {
     "base_uri": "https://localhost:8080/"
    },
    "executionInfo": {
     "elapsed": 10,
     "status": "ok",
     "timestamp": 1754937048464,
     "user": {
      "displayName": "Alexsandro Oliveira Alexandrino",
      "userId": "14959848670292000444"
     },
     "user_tz": 180
    },
    "id": "dQuK1G5wEXQn",
    "outputId": "8a28f7fc-8ac6-425d-f7f3-d232e0fa996d"
   },
   "outputs": [
    {
     "name": "stdout",
     "output_type": "stream",
     "text": [
      "[0, 1, 2, 3, 4, 5, 6, 7, 8, 9]\n"
     ]
    }
   ],
   "source": [
    "# Converte range para uma lista...\n",
    "print(list(a))"
   ]
  },
  {
   "cell_type": "code",
   "execution_count": 26,
   "metadata": {
    "colab": {
     "base_uri": "https://localhost:8080/"
    },
    "executionInfo": {
     "elapsed": 11,
     "status": "ok",
     "timestamp": 1754937048476,
     "user": {
      "displayName": "Alexsandro Oliveira Alexandrino",
      "userId": "14959848670292000444"
     },
     "user_tz": 180
    },
    "id": "NPcufqOEEXQn",
    "outputId": "7a690a52-32f5-426d-a4f6-bc6fd4fab4d3"
   },
   "outputs": [
    {
     "name": "stdout",
     "output_type": "stream",
     "text": [
      "range(-5, -100, -11)\n",
      "<class 'range'>\n",
      "[-5, -16, -27, -38, -49, -60, -71, -82, -93]\n"
     ]
    }
   ],
   "source": [
    "# Cria um rnage mais complexo\n",
    "a = range(-5, -100, -11)\n",
    "print(a)\n",
    "print(type(a))\n",
    "print(list(a))"
   ]
  },
  {
   "cell_type": "markdown",
   "metadata": {
    "id": "RUCLzOQKEXQn"
   },
   "source": [
    "## 3. Operações matemáticas"
   ]
  },
  {
   "cell_type": "code",
   "execution_count": 27,
   "metadata": {
    "colab": {
     "base_uri": "https://localhost:8080/"
    },
    "executionInfo": {
     "elapsed": 9,
     "status": "ok",
     "timestamp": 1754937048487,
     "user": {
      "displayName": "Alexsandro Oliveira Alexandrino",
      "userId": "14959848670292000444"
     },
     "user_tz": 180
    },
    "id": "4OoxqX2uEXQo",
    "outputId": "abbaa221-865f-4ce7-f5c1-f7bf1bbf5285"
   },
   "outputs": [
    {
     "data": {
      "text/plain": [
       "14"
      ]
     },
     "execution_count": 27,
     "metadata": {},
     "output_type": "execute_result"
    }
   ],
   "source": [
    "10 + 4"
   ]
  },
  {
   "cell_type": "code",
   "execution_count": 28,
   "metadata": {
    "colab": {
     "base_uri": "https://localhost:8080/"
    },
    "executionInfo": {
     "elapsed": 9,
     "status": "ok",
     "timestamp": 1754937048500,
     "user": {
      "displayName": "Alexsandro Oliveira Alexandrino",
      "userId": "14959848670292000444"
     },
     "user_tz": 180
    },
    "id": "7CUEtNP6EXQo",
    "outputId": "9bf16825-ca78-467a-b047-dd5f786870e1"
   },
   "outputs": [
    {
     "data": {
      "text/plain": [
       "6"
      ]
     },
     "execution_count": 28,
     "metadata": {},
     "output_type": "execute_result"
    }
   ],
   "source": [
    "10 - 4"
   ]
  },
  {
   "cell_type": "code",
   "execution_count": 29,
   "metadata": {
    "colab": {
     "base_uri": "https://localhost:8080/"
    },
    "executionInfo": {
     "elapsed": 10,
     "status": "ok",
     "timestamp": 1754937048513,
     "user": {
      "displayName": "Alexsandro Oliveira Alexandrino",
      "userId": "14959848670292000444"
     },
     "user_tz": 180
    },
    "id": "NOaWiGX9EXQo",
    "outputId": "f4dd719c-81d7-47a8-c8ca-0b0212442a81"
   },
   "outputs": [
    {
     "data": {
      "text/plain": [
       "40"
      ]
     },
     "execution_count": 29,
     "metadata": {},
     "output_type": "execute_result"
    }
   ],
   "source": [
    "10 * 4"
   ]
  },
  {
   "cell_type": "code",
   "execution_count": 30,
   "metadata": {
    "colab": {
     "base_uri": "https://localhost:8080/"
    },
    "executionInfo": {
     "elapsed": 10,
     "status": "ok",
     "timestamp": 1754937048526,
     "user": {
      "displayName": "Alexsandro Oliveira Alexandrino",
      "userId": "14959848670292000444"
     },
     "user_tz": 180
    },
    "id": "AdZV-MbJEXQo",
    "outputId": "0b545284-5d05-40e5-a110-b58d30face24"
   },
   "outputs": [
    {
     "data": {
      "text/plain": [
       "10000"
      ]
     },
     "execution_count": 30,
     "metadata": {},
     "output_type": "execute_result"
    }
   ],
   "source": [
    "10 ** 4    # expoente"
   ]
  },
  {
   "cell_type": "code",
   "execution_count": 31,
   "metadata": {
    "colab": {
     "base_uri": "https://localhost:8080/"
    },
    "executionInfo": {
     "elapsed": 11,
     "status": "ok",
     "timestamp": 1754937048540,
     "user": {
      "displayName": "Alexsandro Oliveira Alexandrino",
      "userId": "14959848670292000444"
     },
     "user_tz": 180
    },
    "id": "uBE23nneEXQp",
    "outputId": "4c809d89-b4f3-4ffb-dd2d-12a396a12a93"
   },
   "outputs": [
    {
     "data": {
      "text/plain": [
       "1"
      ]
     },
     "execution_count": 31,
     "metadata": {},
     "output_type": "execute_result"
    }
   ],
   "source": [
    "5 % 4      # modulo - calcula o resto"
   ]
  },
  {
   "cell_type": "code",
   "execution_count": 32,
   "metadata": {
    "colab": {
     "base_uri": "https://localhost:8080/"
    },
    "executionInfo": {
     "elapsed": 13,
     "status": "ok",
     "timestamp": 1754937048552,
     "user": {
      "displayName": "Alexsandro Oliveira Alexandrino",
      "userId": "14959848670292000444"
     },
     "user_tz": 180
    },
    "id": "ovev1mXsEXQp",
    "outputId": "78336e32-dd13-4650-bd6a-29bb2192caf6",
    "scrolled": true
   },
   "outputs": [
    {
     "data": {
      "text/plain": [
       "2.5"
      ]
     },
     "execution_count": 32,
     "metadata": {},
     "output_type": "execute_result"
    }
   ],
   "source": [
    "# Python 2: retorna 2 (porque ambos são 'int')\n",
    "# Python 3: returns 2.5\n",
    "10 / 4"
   ]
  },
  {
   "cell_type": "code",
   "execution_count": 33,
   "metadata": {
    "colab": {
     "base_uri": "https://localhost:8080/"
    },
    "executionInfo": {
     "elapsed": 9,
     "status": "ok",
     "timestamp": 1754937048563,
     "user": {
      "displayName": "Alexsandro Oliveira Alexandrino",
      "userId": "14959848670292000444"
     },
     "user_tz": 180
    },
    "id": "aJgcKTaxEXQp",
    "outputId": "c2d961f3-9df4-4066-8f1f-ae4e70adbae5",
    "scrolled": true
   },
   "outputs": [
    {
     "data": {
      "text/plain": [
       "2.5"
      ]
     },
     "execution_count": 33,
     "metadata": {},
     "output_type": "execute_result"
    }
   ],
   "source": [
    "10 / float(4)"
   ]
  },
  {
   "cell_type": "code",
   "execution_count": 34,
   "metadata": {
    "colab": {
     "base_uri": "https://localhost:8080/"
    },
    "executionInfo": {
     "elapsed": 9,
     "status": "ok",
     "timestamp": 1754937048575,
     "user": {
      "displayName": "Alexsandro Oliveira Alexandrino",
      "userId": "14959848670292000444"
     },
     "user_tz": 180
    },
    "id": "9-eBRbKiEXQp",
    "outputId": "67acd072-03e3-4c2f-cdc0-58871c63583a"
   },
   "outputs": [
    {
     "data": {
      "text/plain": [
       "2"
      ]
     },
     "execution_count": 34,
     "metadata": {},
     "output_type": "execute_result"
    }
   ],
   "source": [
    "10 // 4    # floor division"
   ]
  },
  {
   "cell_type": "markdown",
   "metadata": {
    "id": "SIMNycuhEXQp"
   },
   "source": [
    "## 4. Comparações"
   ]
  },
  {
   "cell_type": "markdown",
   "metadata": {
    "id": "esMxj8OUEXQq"
   },
   "source": [
    "**Atribuição:**"
   ]
  },
  {
   "cell_type": "code",
   "execution_count": 35,
   "metadata": {
    "colab": {
     "base_uri": "https://localhost:8080/"
    },
    "executionInfo": {
     "elapsed": 9,
     "status": "ok",
     "timestamp": 1754937048588,
     "user": {
      "displayName": "Alexsandro Oliveira Alexandrino",
      "userId": "14959848670292000444"
     },
     "user_tz": 180
    },
    "id": "VZuWdBxZEXQq",
    "outputId": "489b769a-ab61-4207-f031-be4798a44de0"
   },
   "outputs": [
    {
     "name": "stdout",
     "output_type": "stream",
     "text": [
      "True\n"
     ]
    }
   ],
   "source": [
    "x = 5\n",
    "if (x==5):\n",
    "    print(x==5)"
   ]
  },
  {
   "cell_type": "markdown",
   "metadata": {
    "id": "qdFKYn1aEXQq"
   },
   "source": [
    "**Comparações:**"
   ]
  },
  {
   "cell_type": "code",
   "execution_count": 36,
   "metadata": {
    "colab": {
     "base_uri": "https://localhost:8080/"
    },
    "executionInfo": {
     "elapsed": 9,
     "status": "ok",
     "timestamp": 1754937048599,
     "user": {
      "displayName": "Alexsandro Oliveira Alexandrino",
      "userId": "14959848670292000444"
     },
     "user_tz": 180
    },
    "id": "nN4As4-dEXQq",
    "outputId": "29a27582-7caf-4fe3-913b-5b36fc02cd54"
   },
   "outputs": [
    {
     "data": {
      "text/plain": [
       "True"
      ]
     },
     "execution_count": 36,
     "metadata": {},
     "output_type": "execute_result"
    }
   ],
   "source": [
    "x > 3"
   ]
  },
  {
   "cell_type": "code",
   "execution_count": 37,
   "metadata": {
    "colab": {
     "base_uri": "https://localhost:8080/"
    },
    "executionInfo": {
     "elapsed": 9,
     "status": "ok",
     "timestamp": 1754937048612,
     "user": {
      "displayName": "Alexsandro Oliveira Alexandrino",
      "userId": "14959848670292000444"
     },
     "user_tz": 180
    },
    "id": "TEIOsHSjEXQq",
    "outputId": "d5d4eb9e-dd95-4868-aef9-5713ba8991c2"
   },
   "outputs": [
    {
     "data": {
      "text/plain": [
       "True"
      ]
     },
     "execution_count": 37,
     "metadata": {},
     "output_type": "execute_result"
    }
   ],
   "source": [
    "x >= 3"
   ]
  },
  {
   "cell_type": "code",
   "execution_count": 38,
   "metadata": {
    "colab": {
     "base_uri": "https://localhost:8080/"
    },
    "executionInfo": {
     "elapsed": 9,
     "status": "ok",
     "timestamp": 1754937048624,
     "user": {
      "displayName": "Alexsandro Oliveira Alexandrino",
      "userId": "14959848670292000444"
     },
     "user_tz": 180
    },
    "id": "YtEWUaDZEXQq",
    "outputId": "b2c33d37-51fc-451c-c6c6-1925284705e7"
   },
   "outputs": [
    {
     "data": {
      "text/plain": [
       "True"
      ]
     },
     "execution_count": 38,
     "metadata": {},
     "output_type": "execute_result"
    }
   ],
   "source": [
    "x != 3"
   ]
  },
  {
   "cell_type": "code",
   "execution_count": 39,
   "metadata": {
    "colab": {
     "base_uri": "https://localhost:8080/"
    },
    "executionInfo": {
     "elapsed": 11,
     "status": "ok",
     "timestamp": 1754937048637,
     "user": {
      "displayName": "Alexsandro Oliveira Alexandrino",
      "userId": "14959848670292000444"
     },
     "user_tz": 180
    },
    "id": "iZ1tjERUEXQq",
    "outputId": "495e939d-483a-46ea-8dae-beea3536a661"
   },
   "outputs": [
    {
     "data": {
      "text/plain": [
       "True"
      ]
     },
     "execution_count": 39,
     "metadata": {},
     "output_type": "execute_result"
    }
   ],
   "source": [
    "x == 5"
   ]
  },
  {
   "cell_type": "markdown",
   "metadata": {
    "id": "V2s61dvREXQr"
   },
   "source": [
    "**Operações Booleanas:**"
   ]
  },
  {
   "cell_type": "code",
   "execution_count": 40,
   "metadata": {
    "colab": {
     "base_uri": "https://localhost:8080/"
    },
    "executionInfo": {
     "elapsed": 10,
     "status": "ok",
     "timestamp": 1754937048649,
     "user": {
      "displayName": "Alexsandro Oliveira Alexandrino",
      "userId": "14959848670292000444"
     },
     "user_tz": 180
    },
    "id": "fliJjpEDEXQr",
    "outputId": "a6d37ae1-6c18-4ce6-ca06-ea93fc132dcb"
   },
   "outputs": [
    {
     "data": {
      "text/plain": [
       "True"
      ]
     },
     "execution_count": 40,
     "metadata": {},
     "output_type": "execute_result"
    }
   ],
   "source": [
    "5 > 3 and 6 > 3"
   ]
  },
  {
   "cell_type": "code",
   "execution_count": 41,
   "metadata": {
    "colab": {
     "base_uri": "https://localhost:8080/"
    },
    "executionInfo": {
     "elapsed": 19,
     "status": "ok",
     "timestamp": 1754937048671,
     "user": {
      "displayName": "Alexsandro Oliveira Alexandrino",
      "userId": "14959848670292000444"
     },
     "user_tz": 180
    },
    "id": "v1wsHAnkEXQr",
    "outputId": "155b5bf6-8f44-4f87-f909-dada7533495c"
   },
   "outputs": [
    {
     "data": {
      "text/plain": [
       "True"
      ]
     },
     "execution_count": 41,
     "metadata": {},
     "output_type": "execute_result"
    }
   ],
   "source": [
    "5 > 3 or 5 < 3"
   ]
  },
  {
   "cell_type": "code",
   "execution_count": 42,
   "metadata": {
    "colab": {
     "base_uri": "https://localhost:8080/"
    },
    "executionInfo": {
     "elapsed": 13,
     "status": "ok",
     "timestamp": 1754937048674,
     "user": {
      "displayName": "Alexsandro Oliveira Alexandrino",
      "userId": "14959848670292000444"
     },
     "user_tz": 180
    },
    "id": "IzBu49RYEXQr",
    "outputId": "5e238a88-a252-4407-fa94-2df631cc8ee8"
   },
   "outputs": [
    {
     "data": {
      "text/plain": [
       "True"
      ]
     },
     "execution_count": 42,
     "metadata": {},
     "output_type": "execute_result"
    }
   ],
   "source": [
    "not False"
   ]
  },
  {
   "cell_type": "code",
   "execution_count": 43,
   "metadata": {
    "colab": {
     "base_uri": "https://localhost:8080/"
    },
    "executionInfo": {
     "elapsed": 10,
     "status": "ok",
     "timestamp": 1754937048685,
     "user": {
      "displayName": "Alexsandro Oliveira Alexandrino",
      "userId": "14959848670292000444"
     },
     "user_tz": 180
    },
    "id": "sicocaWaEXQs",
    "outputId": "15c9fdc1-e6a2-4dcb-f8a3-b1d20512db88"
   },
   "outputs": [
    {
     "data": {
      "text/plain": [
       "True"
      ]
     },
     "execution_count": 43,
     "metadata": {},
     "output_type": "execute_result"
    }
   ],
   "source": [
    "False or not False and True     # ordem de avaliação: not, and, or"
   ]
  },
  {
   "cell_type": "markdown",
   "metadata": {
    "id": "7ugbnoLwEXQs"
   },
   "source": [
    "## 5. Condicionais"
   ]
  },
  {
   "cell_type": "code",
   "execution_count": 44,
   "metadata": {
    "colab": {
     "base_uri": "https://localhost:8080/"
    },
    "executionInfo": {
     "elapsed": 9,
     "status": "ok",
     "timestamp": 1754937048697,
     "user": {
      "displayName": "Alexsandro Oliveira Alexandrino",
      "userId": "14959848670292000444"
     },
     "user_tz": 180
    },
    "id": "SjeT7rpTEXQs",
    "outputId": "49761245-987e-4a47-fda3-c0e1d8cc7ef2"
   },
   "outputs": [
    {
     "name": "stdout",
     "output_type": "stream",
     "text": [
      "positive\n",
      "positive2\n"
     ]
    }
   ],
   "source": [
    "x=2\n",
    "# if statement\n",
    "if x > 0:\n",
    "    print('positive')\n",
    "print('positive2')"
   ]
  },
  {
   "cell_type": "code",
   "execution_count": 45,
   "metadata": {
    "colab": {
     "base_uri": "https://localhost:8080/"
    },
    "executionInfo": {
     "elapsed": 10,
     "status": "ok",
     "timestamp": 1754937048709,
     "user": {
      "displayName": "Alexsandro Oliveira Alexandrino",
      "userId": "14959848670292000444"
     },
     "user_tz": 180
    },
    "id": "nAx5iPG8EXQs",
    "outputId": "626e14f2-e3e6-4f5b-f60c-3b6fec3ba12e"
   },
   "outputs": [
    {
     "name": "stdout",
     "output_type": "stream",
     "text": [
      "positive\n"
     ]
    }
   ],
   "source": [
    "# if/else statement\n",
    "if x > 0:\n",
    "    print('positive')\n",
    "    x = 1\n",
    "else:\n",
    "    print('zero or negative')"
   ]
  },
  {
   "cell_type": "code",
   "execution_count": 46,
   "metadata": {
    "colab": {
     "base_uri": "https://localhost:8080/"
    },
    "executionInfo": {
     "elapsed": 9,
     "status": "ok",
     "timestamp": 1754937048720,
     "user": {
      "displayName": "Alexsandro Oliveira Alexandrino",
      "userId": "14959848670292000444"
     },
     "user_tz": 180
    },
    "id": "YxCc9IXyEXQs",
    "outputId": "45d4985d-d9b1-4009-97c0-bfb1c26bf3f9"
   },
   "outputs": [
    {
     "name": "stdout",
     "output_type": "stream",
     "text": [
      "positive\n"
     ]
    }
   ],
   "source": [
    "# if/elif/else statement\n",
    "if x > 0:\n",
    "    print('positive')\n",
    "elif x == 0:\n",
    "    print('zero')\n",
    "else:\n",
    "    print('negative')"
   ]
  },
  {
   "cell_type": "code",
   "execution_count": 47,
   "metadata": {
    "colab": {
     "base_uri": "https://localhost:8080/"
    },
    "executionInfo": {
     "elapsed": 10,
     "status": "ok",
     "timestamp": 1754937048733,
     "user": {
      "displayName": "Alexsandro Oliveira Alexandrino",
      "userId": "14959848670292000444"
     },
     "user_tz": 180
    },
    "id": "g4RxDecFEXQt",
    "outputId": "8a23d9ec-0dc4-4a66-d43a-73c6628f8698"
   },
   "outputs": [
    {
     "name": "stdout",
     "output_type": "stream",
     "text": [
      "positive\n"
     ]
    }
   ],
   "source": [
    "# linha única if statement\n",
    "if x > 0: print('positive')"
   ]
  },
  {
   "cell_type": "code",
   "execution_count": 48,
   "metadata": {
    "colab": {
     "base_uri": "https://localhost:8080/",
     "height": 36
    },
    "executionInfo": {
     "elapsed": 6,
     "status": "ok",
     "timestamp": 1754937048743,
     "user": {
      "displayName": "Alexsandro Oliveira Alexandrino",
      "userId": "14959848670292000444"
     },
     "user_tz": 180
    },
    "id": "GRjUpycHEXQt",
    "outputId": "8aa738b3-e06f-4a2e-d9cf-737bb2f091c9"
   },
   "outputs": [
    {
     "data": {
      "application/vnd.google.colaboratory.intrinsic+json": {
       "type": "string"
      },
      "text/plain": [
       "'positive'"
      ]
     },
     "execution_count": 48,
     "metadata": {},
     "output_type": "execute_result"
    }
   ],
   "source": [
    "# linha única if/else statement, conhecida como 'operador ternário'\n",
    "'positive' if x > 0 else 'zero or negative'"
   ]
  },
  {
   "cell_type": "markdown",
   "metadata": {
    "id": "fkkiuQXLEXQt"
   },
   "source": [
    "## 6. Listas\n",
    "\n",
    "- **Propriedades:** ordenada, iterable, pode conter tipos diferentes"
   ]
  },
  {
   "cell_type": "code",
   "execution_count": 49,
   "metadata": {
    "executionInfo": {
     "elapsed": 5,
     "status": "ok",
     "timestamp": 1754937048752,
     "user": {
      "displayName": "Alexsandro Oliveira Alexandrino",
      "userId": "14959848670292000444"
     },
     "user_tz": 180
    },
    "id": "pfst3R9pEXQt"
   },
   "outputs": [],
   "source": [
    "# cria lista vazia (2 formas)\n",
    "empty_list = []\n",
    "empty_list = list()"
   ]
  },
  {
   "cell_type": "code",
   "execution_count": 50,
   "metadata": {
    "executionInfo": {
     "elapsed": 5,
     "status": "ok",
     "timestamp": 1754937048761,
     "user": {
      "displayName": "Alexsandro Oliveira Alexandrino",
      "userId": "14959848670292000444"
     },
     "user_tz": 180
    },
    "id": "JqjI3i02EXQt"
   },
   "outputs": [],
   "source": [
    "# cria uma lista\n",
    "simpsons = ['homer', 'marge', 'bart']"
   ]
  },
  {
   "cell_type": "markdown",
   "metadata": {
    "id": "6Mzel0OPEXQu"
   },
   "source": [
    "**Examina uma lista:**"
   ]
  },
  {
   "cell_type": "code",
   "execution_count": 51,
   "metadata": {
    "colab": {
     "base_uri": "https://localhost:8080/",
     "height": 36
    },
    "executionInfo": {
     "elapsed": 9,
     "status": "ok",
     "timestamp": 1754937048775,
     "user": {
      "displayName": "Alexsandro Oliveira Alexandrino",
      "userId": "14959848670292000444"
     },
     "user_tz": 180
    },
    "id": "7bbkoQCoEXQu",
    "outputId": "7eaca429-7e49-466e-f35f-9f48a52e8a44"
   },
   "outputs": [
    {
     "data": {
      "application/vnd.google.colaboratory.intrinsic+json": {
       "type": "string"
      },
      "text/plain": [
       "'homer'"
      ]
     },
     "execution_count": 51,
     "metadata": {},
     "output_type": "execute_result"
    }
   ],
   "source": [
    "# imprime elemento 0\n",
    "simpsons[0]"
   ]
  },
  {
   "cell_type": "code",
   "execution_count": 52,
   "metadata": {
    "colab": {
     "base_uri": "https://localhost:8080/"
    },
    "executionInfo": {
     "elapsed": 14,
     "status": "ok",
     "timestamp": 1754937048795,
     "user": {
      "displayName": "Alexsandro Oliveira Alexandrino",
      "userId": "14959848670292000444"
     },
     "user_tz": 180
    },
    "id": "AW4npe7JEXQu",
    "outputId": "665be8f7-3d8e-4a0d-c368-8513bbda794c"
   },
   "outputs": [
    {
     "data": {
      "text/plain": [
       "3"
      ]
     },
     "execution_count": 52,
     "metadata": {},
     "output_type": "execute_result"
    }
   ],
   "source": [
    "len(simpsons)"
   ]
  },
  {
   "cell_type": "markdown",
   "metadata": {
    "id": "yKe8a936EXQu"
   },
   "source": [
    "**Modifica a lista:**"
   ]
  },
  {
   "cell_type": "code",
   "execution_count": 53,
   "metadata": {
    "colab": {
     "base_uri": "https://localhost:8080/"
    },
    "executionInfo": {
     "elapsed": 13,
     "status": "ok",
     "timestamp": 1754937048811,
     "user": {
      "displayName": "Alexsandro Oliveira Alexandrino",
      "userId": "14959848670292000444"
     },
     "user_tz": 180
    },
    "id": "HYjiXJBNEXQu",
    "outputId": "65cab322-8dbb-4229-e7a2-880eba5ab820"
   },
   "outputs": [
    {
     "data": {
      "text/plain": [
       "['homer', 'marge', 'bart', 'lisa']"
      ]
     },
     "execution_count": 53,
     "metadata": {},
     "output_type": "execute_result"
    }
   ],
   "source": [
    "# adiciona elemento no final\n",
    "simpsons.append('lisa')\n",
    "simpsons"
   ]
  },
  {
   "cell_type": "code",
   "execution_count": 54,
   "metadata": {
    "colab": {
     "base_uri": "https://localhost:8080/"
    },
    "executionInfo": {
     "elapsed": 12,
     "status": "ok",
     "timestamp": 1754937048827,
     "user": {
      "displayName": "Alexsandro Oliveira Alexandrino",
      "userId": "14959848670292000444"
     },
     "user_tz": 180
    },
    "id": "m8niOc4FEXQu",
    "outputId": "eb1d12a7-f41d-430a-bf9b-3c781d68374d"
   },
   "outputs": [
    {
     "data": {
      "text/plain": [
       "['homer', 'marge', 'bart', 'lisa', 'itchy', 'scratchy']"
      ]
     },
     "execution_count": 54,
     "metadata": {},
     "output_type": "execute_result"
    }
   ],
   "source": [
    "# adiciona multiplos elementos no final\n",
    "simpsons.extend(['itchy', 'scratchy'])\n",
    "simpsons"
   ]
  },
  {
   "cell_type": "code",
   "execution_count": 55,
   "metadata": {
    "colab": {
     "base_uri": "https://localhost:8080/"
    },
    "executionInfo": {
     "elapsed": 9,
     "status": "ok",
     "timestamp": 1754937048838,
     "user": {
      "displayName": "Alexsandro Oliveira Alexandrino",
      "userId": "14959848670292000444"
     },
     "user_tz": 180
    },
    "id": "9S0cifHPEXQv",
    "outputId": "73e302ed-5760-43a3-ea89-2f1d9696ee8a"
   },
   "outputs": [
    {
     "data": {
      "text/plain": [
       "['maggie', 'homer', 'marge', 'bart', 'lisa', 'itchy', 'scratchy']"
      ]
     },
     "execution_count": 55,
     "metadata": {},
     "output_type": "execute_result"
    }
   ],
   "source": [
    "# insere elemento no indice 0 (move todos para direita)\n",
    "simpsons.insert(0, 'maggie')\n",
    "simpsons"
   ]
  },
  {
   "cell_type": "code",
   "execution_count": 56,
   "metadata": {
    "colab": {
     "base_uri": "https://localhost:8080/"
    },
    "executionInfo": {
     "elapsed": 9,
     "status": "ok",
     "timestamp": 1754937048851,
     "user": {
      "displayName": "Alexsandro Oliveira Alexandrino",
      "userId": "14959848670292000444"
     },
     "user_tz": 180
    },
    "id": "84yPQNYYEXQv",
    "outputId": "6f67168b-5309-4855-db5d-bcd232827000"
   },
   "outputs": [
    {
     "data": {
      "text/plain": [
       "['maggie', 'homer', 'marge', 'lisa', 'itchy', 'scratchy']"
      ]
     },
     "execution_count": 56,
     "metadata": {},
     "output_type": "execute_result"
    }
   ],
   "source": [
    "# procura primeira ocorrencia e remove\n",
    "simpsons.remove('bart')\n",
    "simpsons"
   ]
  },
  {
   "cell_type": "code",
   "execution_count": 57,
   "metadata": {
    "colab": {
     "base_uri": "https://localhost:8080/",
     "height": 36
    },
    "executionInfo": {
     "elapsed": 7,
     "status": "ok",
     "timestamp": 1754937048860,
     "user": {
      "displayName": "Alexsandro Oliveira Alexandrino",
      "userId": "14959848670292000444"
     },
     "user_tz": 180
    },
    "id": "4rRLS4jxEXQv",
    "outputId": "5ff669e8-087e-4871-c792-83a4504502ff"
   },
   "outputs": [
    {
     "data": {
      "application/vnd.google.colaboratory.intrinsic+json": {
       "type": "string"
      },
      "text/plain": [
       "'maggie'"
      ]
     },
     "execution_count": 57,
     "metadata": {},
     "output_type": "execute_result"
    }
   ],
   "source": [
    "# remove elemento 0 e retorna\n",
    "simpsons.pop(0)"
   ]
  },
  {
   "cell_type": "code",
   "execution_count": 58,
   "metadata": {
    "colab": {
     "base_uri": "https://localhost:8080/"
    },
    "executionInfo": {
     "elapsed": 27,
     "status": "ok",
     "timestamp": 1754937048893,
     "user": {
      "displayName": "Alexsandro Oliveira Alexandrino",
      "userId": "14959848670292000444"
     },
     "user_tz": 180
    },
    "id": "ppAd2zl3EXQv",
    "outputId": "9013e1c1-7b05-4a77-e819-a3dd4ee15e72"
   },
   "outputs": [
    {
     "data": {
      "text/plain": [
       "['marge', 'lisa', 'itchy', 'scratchy']"
      ]
     },
     "execution_count": 58,
     "metadata": {},
     "output_type": "execute_result"
    }
   ],
   "source": [
    "# remove elemento 0 e não retorna\n",
    "del simpsons[0]\n",
    "simpsons"
   ]
  },
  {
   "cell_type": "code",
   "execution_count": 59,
   "metadata": {
    "colab": {
     "base_uri": "https://localhost:8080/"
    },
    "executionInfo": {
     "elapsed": 15,
     "status": "ok",
     "timestamp": 1754937048913,
     "user": {
      "displayName": "Alexsandro Oliveira Alexandrino",
      "userId": "14959848670292000444"
     },
     "user_tz": 180
    },
    "id": "sl2uHuMsEXQw",
    "outputId": "cfd85f26-d569-46d8-b1d2-2bd88bcc5f2a"
   },
   "outputs": [
    {
     "data": {
      "text/plain": [
       "['e', 'lisa', 'itchy', 'scratchy']"
      ]
     },
     "execution_count": 59,
     "metadata": {},
     "output_type": "execute_result"
    }
   ],
   "source": [
    "# substitui elemento 0\n",
    "simpsons[0] = 'e'\n",
    "simpsons"
   ]
  },
  {
   "cell_type": "code",
   "execution_count": 60,
   "metadata": {
    "colab": {
     "base_uri": "https://localhost:8080/"
    },
    "executionInfo": {
     "elapsed": 17,
     "status": "ok",
     "timestamp": 1754937048936,
     "user": {
      "displayName": "Alexsandro Oliveira Alexandrino",
      "userId": "14959848670292000444"
     },
     "user_tz": 180
    },
    "id": "yKnQ0imTEXQw",
    "outputId": "e012e9ec-ba00-49d4-94a6-7c6c5fe3d7ce"
   },
   "outputs": [
    {
     "data": {
      "text/plain": [
       "['e', 'lisa', 'itchy', 'scratchy', 'ned', 'rod', 'todd']"
      ]
     },
     "execution_count": 60,
     "metadata": {},
     "output_type": "execute_result"
    }
   ],
   "source": [
    "# concatena listas\n",
    "neighbors = simpsons + ['ned', 'rod', 'todd']\n",
    "neighbors"
   ]
  },
  {
   "cell_type": "markdown",
   "metadata": {
    "id": "fUsaL0DMEXQw"
   },
   "source": [
    "**Encontra elementos na lista:**"
   ]
  },
  {
   "cell_type": "code",
   "execution_count": 61,
   "metadata": {
    "colab": {
     "base_uri": "https://localhost:8080/"
    },
    "executionInfo": {
     "elapsed": 12,
     "status": "ok",
     "timestamp": 1754937048951,
     "user": {
      "displayName": "Alexsandro Oliveira Alexandrino",
      "userId": "14959848670292000444"
     },
     "user_tz": 180
    },
    "id": "AthyssvwEXQx",
    "outputId": "656c5a8b-b9c7-4942-da22-b7bd7586e863"
   },
   "outputs": [
    {
     "data": {
      "text/plain": [
       "1"
      ]
     },
     "execution_count": 61,
     "metadata": {},
     "output_type": "execute_result"
    }
   ],
   "source": [
    "# conta número de ocorrecias\n",
    "simpsons.count('lisa')"
   ]
  },
  {
   "cell_type": "code",
   "execution_count": 62,
   "metadata": {
    "colab": {
     "base_uri": "https://localhost:8080/"
    },
    "executionInfo": {
     "elapsed": 9,
     "status": "ok",
     "timestamp": 1754937048963,
     "user": {
      "displayName": "Alexsandro Oliveira Alexandrino",
      "userId": "14959848670292000444"
     },
     "user_tz": 180
    },
    "id": "OL1ka3XaEXQx",
    "outputId": "938a4e8e-47c9-4826-aa4a-720bcd74e15c"
   },
   "outputs": [
    {
     "data": {
      "text/plain": [
       "2"
      ]
     },
     "execution_count": 62,
     "metadata": {},
     "output_type": "execute_result"
    }
   ],
   "source": [
    "# retorna indice a primeira ocorrencia\n",
    "simpsons.index('itchy')"
   ]
  },
  {
   "cell_type": "markdown",
   "metadata": {
    "id": "l2sxM3baEXQx"
   },
   "source": [
    "**Quebrando uma Lista:**"
   ]
  },
  {
   "cell_type": "code",
   "execution_count": 63,
   "metadata": {
    "executionInfo": {
     "elapsed": 3,
     "status": "ok",
     "timestamp": 1754937048969,
     "user": {
      "displayName": "Alexsandro Oliveira Alexandrino",
      "userId": "14959848670292000444"
     },
     "user_tz": 180
    },
    "id": "i0sl7a5QEXQx"
   },
   "outputs": [],
   "source": [
    "weekdays = ['mon', 'tues', 'wed', 'thurs', 'fri']"
   ]
  },
  {
   "cell_type": "code",
   "execution_count": 64,
   "metadata": {
    "colab": {
     "base_uri": "https://localhost:8080/",
     "height": 36
    },
    "executionInfo": {
     "elapsed": 8,
     "status": "ok",
     "timestamp": 1754937048980,
     "user": {
      "displayName": "Alexsandro Oliveira Alexandrino",
      "userId": "14959848670292000444"
     },
     "user_tz": 180
    },
    "id": "rfK19uacEXQx",
    "outputId": "790390ad-6a49-48cc-9755-47685d622986"
   },
   "outputs": [
    {
     "data": {
      "application/vnd.google.colaboratory.intrinsic+json": {
       "type": "string"
      },
      "text/plain": [
       "'mon'"
      ]
     },
     "execution_count": 64,
     "metadata": {},
     "output_type": "execute_result"
    }
   ],
   "source": [
    "# elemento 0\n",
    "weekdays[0]"
   ]
  },
  {
   "cell_type": "code",
   "execution_count": 65,
   "metadata": {
    "colab": {
     "base_uri": "https://localhost:8080/"
    },
    "executionInfo": {
     "elapsed": 18,
     "status": "ok",
     "timestamp": 1754937049004,
     "user": {
      "displayName": "Alexsandro Oliveira Alexandrino",
      "userId": "14959848670292000444"
     },
     "user_tz": 180
    },
    "id": "GmTWMgLpEXQy",
    "outputId": "998da0af-ebc5-4bb0-bb42-ec6fab621431"
   },
   "outputs": [
    {
     "data": {
      "text/plain": [
       "['mon', 'tues', 'wed']"
      ]
     },
     "execution_count": 65,
     "metadata": {},
     "output_type": "execute_result"
    }
   ],
   "source": [
    "# elementos 0 (inclusive) até 3 (exclusive)\n",
    "weekdays[0:3]"
   ]
  },
  {
   "cell_type": "code",
   "execution_count": 66,
   "metadata": {
    "colab": {
     "base_uri": "https://localhost:8080/"
    },
    "executionInfo": {
     "elapsed": 11,
     "status": "ok",
     "timestamp": 1754937049018,
     "user": {
      "displayName": "Alexsandro Oliveira Alexandrino",
      "userId": "14959848670292000444"
     },
     "user_tz": 180
    },
    "id": "9yXS7xkSEXQy",
    "outputId": "a968f716-c69f-4140-f7c5-a35e24c703e5"
   },
   "outputs": [
    {
     "data": {
      "text/plain": [
       "['mon', 'tues', 'wed']"
      ]
     },
     "execution_count": 66,
     "metadata": {},
     "output_type": "execute_result"
    }
   ],
   "source": [
    "# inicio implicito em 0\n",
    "weekdays[:3]"
   ]
  },
  {
   "cell_type": "code",
   "execution_count": 67,
   "metadata": {
    "colab": {
     "base_uri": "https://localhost:8080/"
    },
    "executionInfo": {
     "elapsed": 10,
     "status": "ok",
     "timestamp": 1754937049031,
     "user": {
      "displayName": "Alexsandro Oliveira Alexandrino",
      "userId": "14959848670292000444"
     },
     "user_tz": 180
    },
    "id": "NW-56wUUEXQy",
    "outputId": "07100eb2-15f9-4913-83c5-01afd6aa1350"
   },
   "outputs": [
    {
     "data": {
      "text/plain": [
       "['thurs', 'fri']"
      ]
     },
     "execution_count": 67,
     "metadata": {},
     "output_type": "execute_result"
    }
   ],
   "source": [
    "# elementos 3 (inclusive) até o final\n",
    "weekdays[3:]"
   ]
  },
  {
   "cell_type": "code",
   "execution_count": 68,
   "metadata": {
    "colab": {
     "base_uri": "https://localhost:8080/",
     "height": 36
    },
    "executionInfo": {
     "elapsed": 14,
     "status": "ok",
     "timestamp": 1754937049047,
     "user": {
      "displayName": "Alexsandro Oliveira Alexandrino",
      "userId": "14959848670292000444"
     },
     "user_tz": 180
    },
    "id": "UxaG2V6dEXQy",
    "outputId": "3c4ef103-3703-40e8-ddcc-d9c989f642bf"
   },
   "outputs": [
    {
     "data": {
      "application/vnd.google.colaboratory.intrinsic+json": {
       "type": "string"
      },
      "text/plain": [
       "'fri'"
      ]
     },
     "execution_count": 68,
     "metadata": {},
     "output_type": "execute_result"
    }
   ],
   "source": [
    "# último elemento\n",
    "weekdays[-1]"
   ]
  },
  {
   "cell_type": "code",
   "execution_count": 69,
   "metadata": {
    "colab": {
     "base_uri": "https://localhost:8080/"
    },
    "executionInfo": {
     "elapsed": 12,
     "status": "ok",
     "timestamp": 1754937049065,
     "user": {
      "displayName": "Alexsandro Oliveira Alexandrino",
      "userId": "14959848670292000444"
     },
     "user_tz": 180
    },
    "id": "ExosU2QREXQy",
    "outputId": "45b38eed-78e6-4b3b-e822-eb6d3506974b"
   },
   "outputs": [
    {
     "data": {
      "text/plain": [
       "['mon', 'wed', 'fri']"
      ]
     },
     "execution_count": 69,
     "metadata": {},
     "output_type": "execute_result"
    }
   ],
   "source": [
    "# todo 2o elemento (passo 2)\n",
    "weekdays[::2]"
   ]
  },
  {
   "cell_type": "code",
   "execution_count": 70,
   "metadata": {
    "colab": {
     "base_uri": "https://localhost:8080/"
    },
    "executionInfo": {
     "elapsed": 16,
     "status": "ok",
     "timestamp": 1754937049084,
     "user": {
      "displayName": "Alexsandro Oliveira Alexandrino",
      "userId": "14959848670292000444"
     },
     "user_tz": 180
    },
    "id": "YMdIJdUyEXQz",
    "outputId": "480aa321-b2f5-4c49-c8f2-cb6d6f341de7"
   },
   "outputs": [
    {
     "data": {
      "text/plain": [
       "['fri', 'thurs', 'wed', 'tues', 'mon']"
      ]
     },
     "execution_count": 70,
     "metadata": {},
     "output_type": "execute_result"
    }
   ],
   "source": [
    "# reverso (passo -1)\n",
    "weekdays[::-1]"
   ]
  },
  {
   "cell_type": "code",
   "execution_count": 71,
   "metadata": {
    "colab": {
     "base_uri": "https://localhost:8080/"
    },
    "executionInfo": {
     "elapsed": 14,
     "status": "ok",
     "timestamp": 1754937049110,
     "user": {
      "displayName": "Alexsandro Oliveira Alexandrino",
      "userId": "14959848670292000444"
     },
     "user_tz": 180
    },
    "id": "i5hdJv-REXQz",
    "outputId": "4b566fe0-fff4-4bd2-d9d5-f7a38c8c9f6a"
   },
   "outputs": [
    {
     "data": {
      "text/plain": [
       "['fri', 'thurs', 'wed', 'tues', 'mon']"
      ]
     },
     "execution_count": 71,
     "metadata": {},
     "output_type": "execute_result"
    }
   ],
   "source": [
    "# método alternativo\n",
    "list(reversed(weekdays))"
   ]
  },
  {
   "cell_type": "markdown",
   "metadata": {
    "id": "XyUFYAyrEXQz"
   },
   "source": [
    "**Ordena uma lista (modifica mas não retorna):**"
   ]
  },
  {
   "cell_type": "code",
   "execution_count": 72,
   "metadata": {
    "colab": {
     "base_uri": "https://localhost:8080/"
    },
    "executionInfo": {
     "elapsed": 15,
     "status": "ok",
     "timestamp": 1754937049129,
     "user": {
      "displayName": "Alexsandro Oliveira Alexandrino",
      "userId": "14959848670292000444"
     },
     "user_tz": 180
    },
    "id": "9Y3bKj7BEXQz",
    "outputId": "abd7fa31-3539-441e-852f-77ca48a30f24"
   },
   "outputs": [
    {
     "data": {
      "text/plain": [
       "['e', 'itchy', 'lisa', 'scratchy']"
      ]
     },
     "execution_count": 72,
     "metadata": {},
     "output_type": "execute_result"
    }
   ],
   "source": [
    "simpsons.sort()\n",
    "simpsons"
   ]
  },
  {
   "cell_type": "code",
   "execution_count": 73,
   "metadata": {
    "colab": {
     "base_uri": "https://localhost:8080/"
    },
    "executionInfo": {
     "elapsed": 9,
     "status": "ok",
     "timestamp": 1754937049142,
     "user": {
      "displayName": "Alexsandro Oliveira Alexandrino",
      "userId": "14959848670292000444"
     },
     "user_tz": 180
    },
    "id": "X3u884lXEXQz",
    "outputId": "f9c35901-bf9b-4562-e784-79041e50a1f3"
   },
   "outputs": [
    {
     "data": {
      "text/plain": [
       "['scratchy', 'lisa', 'itchy', 'e']"
      ]
     },
     "execution_count": 73,
     "metadata": {},
     "output_type": "execute_result"
    }
   ],
   "source": [
    "# ordena inversamente\n",
    "simpsons.sort(reverse=True)\n",
    "simpsons"
   ]
  },
  {
   "cell_type": "code",
   "execution_count": 74,
   "metadata": {
    "colab": {
     "base_uri": "https://localhost:8080/"
    },
    "executionInfo": {
     "elapsed": 28,
     "status": "ok",
     "timestamp": 1754937049174,
     "user": {
      "displayName": "Alexsandro Oliveira Alexandrino",
      "userId": "14959848670292000444"
     },
     "user_tz": 180
    },
    "id": "DC-sh4PBEXQ0",
    "outputId": "5cbb6079-45ef-477c-9e17-0e2cef4bbe66"
   },
   "outputs": [
    {
     "data": {
      "text/plain": [
       "['e', 'lisa', 'itchy', 'scratchy']"
      ]
     },
     "execution_count": 74,
     "metadata": {},
     "output_type": "execute_result"
    }
   ],
   "source": [
    "# ordena por uma chave\n",
    "simpsons.sort(key=len)\n",
    "simpsons"
   ]
  },
  {
   "cell_type": "markdown",
   "metadata": {
    "id": "3IxUmypCEXQ0"
   },
   "source": [
    "**Retorna uma lista ordenada (não modifica a lista original):**"
   ]
  },
  {
   "cell_type": "code",
   "execution_count": 75,
   "metadata": {
    "colab": {
     "base_uri": "https://localhost:8080/"
    },
    "executionInfo": {
     "elapsed": 18,
     "status": "ok",
     "timestamp": 1754937049177,
     "user": {
      "displayName": "Alexsandro Oliveira Alexandrino",
      "userId": "14959848670292000444"
     },
     "user_tz": 180
    },
    "id": "tyCWnYmaEXQ0",
    "outputId": "96a392f6-9525-4946-af1e-0b7548f000c6"
   },
   "outputs": [
    {
     "data": {
      "text/plain": [
       "['e', 'itchy', 'lisa', 'scratchy']"
      ]
     },
     "execution_count": 75,
     "metadata": {},
     "output_type": "execute_result"
    }
   ],
   "source": [
    "x = sorted(simpsons)\n",
    "x"
   ]
  },
  {
   "cell_type": "code",
   "execution_count": 76,
   "metadata": {
    "colab": {
     "base_uri": "https://localhost:8080/"
    },
    "executionInfo": {
     "elapsed": 10,
     "status": "ok",
     "timestamp": 1754937049189,
     "user": {
      "displayName": "Alexsandro Oliveira Alexandrino",
      "userId": "14959848670292000444"
     },
     "user_tz": 180
    },
    "id": "VPlkPQ4bEXQ0",
    "outputId": "47170c56-30e8-45a3-f795-b77377615959"
   },
   "outputs": [
    {
     "data": {
      "text/plain": [
       "['scratchy', 'lisa', 'itchy', 'e']"
      ]
     },
     "execution_count": 76,
     "metadata": {},
     "output_type": "execute_result"
    }
   ],
   "source": [
    "sorted(simpsons, reverse=True)"
   ]
  },
  {
   "cell_type": "code",
   "execution_count": 77,
   "metadata": {
    "colab": {
     "base_uri": "https://localhost:8080/"
    },
    "executionInfo": {
     "elapsed": 9,
     "status": "ok",
     "timestamp": 1754937049200,
     "user": {
      "displayName": "Alexsandro Oliveira Alexandrino",
      "userId": "14959848670292000444"
     },
     "user_tz": 180
    },
    "id": "JL4Aq1miEXQ0",
    "outputId": "6d78914d-0533-4493-8206-6cb528f09a61"
   },
   "outputs": [
    {
     "name": "stdout",
     "output_type": "stream",
     "text": [
      "['e', 'lisa', 'itchy', 'scratchy']\n"
     ]
    }
   ],
   "source": [
    "print(simpsons)"
   ]
  },
  {
   "cell_type": "markdown",
   "metadata": {
    "id": "9k3yTN9CEXQ0"
   },
   "source": [
    "**Insere em uma lista já ordenada e mantem a ordem:**"
   ]
  },
  {
   "cell_type": "code",
   "execution_count": 78,
   "metadata": {
    "colab": {
     "base_uri": "https://localhost:8080/"
    },
    "executionInfo": {
     "elapsed": 10,
     "status": "ok",
     "timestamp": 1754937049213,
     "user": {
      "displayName": "Alexsandro Oliveira Alexandrino",
      "userId": "14959848670292000444"
     },
     "user_tz": 180
    },
    "id": "wHHcPfXxEXQ1",
    "outputId": "763d9dac-8426-4e59-ec8f-7e4beb1d21c7"
   },
   "outputs": [
    {
     "data": {
      "text/plain": [
       "[10, 20, 30, 40, 50]"
      ]
     },
     "execution_count": 78,
     "metadata": {},
     "output_type": "execute_result"
    }
   ],
   "source": [
    "num = [10, 20, 40, 50]\n",
    "from bisect import insort\n",
    "insort(num, 30)\n",
    "num"
   ]
  },
  {
   "cell_type": "markdown",
   "metadata": {
    "id": "8p7Jf-UCEXQ1"
   },
   "source": [
    "**Referencias e cópias:**"
   ]
  },
  {
   "cell_type": "code",
   "execution_count": 79,
   "metadata": {
    "executionInfo": {
     "elapsed": 6,
     "status": "ok",
     "timestamp": 1754937049222,
     "user": {
      "displayName": "Alexsandro Oliveira Alexandrino",
      "userId": "14959848670292000444"
     },
     "user_tz": 180
    },
    "id": "KswlE_E5EXQ1"
   },
   "outputs": [],
   "source": [
    "# cria uma segunda referencia para a mesma lista\n",
    "same_num = num"
   ]
  },
  {
   "cell_type": "code",
   "execution_count": 80,
   "metadata": {
    "colab": {
     "base_uri": "https://localhost:8080/"
    },
    "executionInfo": {
     "elapsed": 22,
     "status": "ok",
     "timestamp": 1754937049240,
     "user": {
      "displayName": "Alexsandro Oliveira Alexandrino",
      "userId": "14959848670292000444"
     },
     "user_tz": 180
    },
    "id": "nuCVwm_UEXQ1",
    "outputId": "5ab5e285-750d-45ca-cc22-90f18bf15ce5"
   },
   "outputs": [
    {
     "name": "stdout",
     "output_type": "stream",
     "text": [
      "[0, 20, 30, 40, 50]\n",
      "[0, 20, 30, 40, 50]\n"
     ]
    }
   ],
   "source": [
    "# modifica ambas as listas 'num' e 'same_num'\n",
    "same_num[0] = 0\n",
    "print(num)\n",
    "print(same_num)"
   ]
  },
  {
   "cell_type": "code",
   "execution_count": 81,
   "metadata": {
    "colab": {
     "base_uri": "https://localhost:8080/"
    },
    "executionInfo": {
     "elapsed": 12,
     "status": "ok",
     "timestamp": 1754937049244,
     "user": {
      "displayName": "Alexsandro Oliveira Alexandrino",
      "userId": "14959848670292000444"
     },
     "user_tz": 180
    },
    "id": "8BlOl-TmEXQ1",
    "outputId": "775a6f31-6165-4e63-adcf-1d1532bd3b99"
   },
   "outputs": [
    {
     "name": "stdout",
     "output_type": "stream",
     "text": [
      "[0, 20, 30, 40, 50]\n",
      "[0, 20, 30, 40, 50]\n"
     ]
    }
   ],
   "source": [
    "# copia uma lista (2 formas)\n",
    "new_num = num[:]\n",
    "new_num = list(num)\n",
    "print(num)\n",
    "print(new_num)"
   ]
  },
  {
   "cell_type": "markdown",
   "metadata": {
    "id": "OZzahA7tEXQ2"
   },
   "source": [
    "**Checa objetos:**"
   ]
  },
  {
   "cell_type": "code",
   "execution_count": 82,
   "metadata": {
    "colab": {
     "base_uri": "https://localhost:8080/"
    },
    "executionInfo": {
     "elapsed": 11,
     "status": "ok",
     "timestamp": 1754937049257,
     "user": {
      "displayName": "Alexsandro Oliveira Alexandrino",
      "userId": "14959848670292000444"
     },
     "user_tz": 180
    },
    "id": "nEWgncoVEXQ2",
    "outputId": "9e14df22-f945-4fcf-9797-a9c6483f570f"
   },
   "outputs": [
    {
     "data": {
      "text/plain": [
       "True"
      ]
     },
     "execution_count": 82,
     "metadata": {},
     "output_type": "execute_result"
    }
   ],
   "source": [
    "num is same_num    # checa se são o mesmo objeto"
   ]
  },
  {
   "cell_type": "code",
   "execution_count": 83,
   "metadata": {
    "colab": {
     "base_uri": "https://localhost:8080/"
    },
    "executionInfo": {
     "elapsed": 9,
     "status": "ok",
     "timestamp": 1754937049269,
     "user": {
      "displayName": "Alexsandro Oliveira Alexandrino",
      "userId": "14959848670292000444"
     },
     "user_tz": 180
    },
    "id": "w3DBVNfiEXQ2",
    "outputId": "1d1f9e76-77d7-412c-ca78-98b38a248c6c"
   },
   "outputs": [
    {
     "data": {
      "text/plain": [
       "False"
      ]
     },
     "execution_count": 83,
     "metadata": {},
     "output_type": "execute_result"
    }
   ],
   "source": [
    "num is new_num"
   ]
  },
  {
   "cell_type": "code",
   "execution_count": 84,
   "metadata": {
    "colab": {
     "base_uri": "https://localhost:8080/"
    },
    "executionInfo": {
     "elapsed": 9,
     "status": "ok",
     "timestamp": 1754937049281,
     "user": {
      "displayName": "Alexsandro Oliveira Alexandrino",
      "userId": "14959848670292000444"
     },
     "user_tz": 180
    },
    "id": "NwUknf8NEXQ2",
    "outputId": "25384f9c-3562-4308-8a79-aed506d85113"
   },
   "outputs": [
    {
     "data": {
      "text/plain": [
       "True"
      ]
     },
     "execution_count": 84,
     "metadata": {},
     "output_type": "execute_result"
    }
   ],
   "source": [
    "num == same_num    # checa se possuem o mesmo conteúdo"
   ]
  },
  {
   "cell_type": "code",
   "execution_count": 85,
   "metadata": {
    "colab": {
     "base_uri": "https://localhost:8080/"
    },
    "executionInfo": {
     "elapsed": 13,
     "status": "ok",
     "timestamp": 1754937049297,
     "user": {
      "displayName": "Alexsandro Oliveira Alexandrino",
      "userId": "14959848670292000444"
     },
     "user_tz": 180
    },
    "id": "PbPB30SSEXQ2",
    "outputId": "d3009fb4-bbea-4a89-f97d-0c05a3d4089f"
   },
   "outputs": [
    {
     "data": {
      "text/plain": [
       "True"
      ]
     },
     "execution_count": 85,
     "metadata": {},
     "output_type": "execute_result"
    }
   ],
   "source": [
    "num == new_num"
   ]
  },
  {
   "cell_type": "markdown",
   "metadata": {
    "id": "AYk2-byQEXQ2"
   },
   "source": [
    "## 7. Tuplas\n",
    "\n",
    "- **Propriedades:** ordena, itera, não muda, pode conter multiplos tipos\n",
    "- Como as listas, mas não mudam tamanho"
   ]
  },
  {
   "cell_type": "code",
   "execution_count": 86,
   "metadata": {
    "executionInfo": {
     "elapsed": 7,
     "status": "ok",
     "timestamp": 1754937049300,
     "user": {
      "displayName": "Alexsandro Oliveira Alexandrino",
      "userId": "14959848670292000444"
     },
     "user_tz": 180
    },
    "id": "9z3BmovSEXQ2"
   },
   "outputs": [],
   "source": [
    "# cria diretamente\n",
    "digits = (0, 1, 'two')"
   ]
  },
  {
   "cell_type": "code",
   "execution_count": 87,
   "metadata": {
    "executionInfo": {
     "elapsed": 2,
     "status": "ok",
     "timestamp": 1754937049304,
     "user": {
      "displayName": "Alexsandro Oliveira Alexandrino",
      "userId": "14959848670292000444"
     },
     "user_tz": 180
    },
    "id": "9g1zwHOyEXQ3"
   },
   "outputs": [],
   "source": [
    "# cria a partir de uma lista\n",
    "digits = tuple([0, 1, 'two'])"
   ]
  },
  {
   "cell_type": "markdown",
   "metadata": {
    "id": "KxpNLGBzEXQ3"
   },
   "source": [
    "**Checa uma tupla:**"
   ]
  },
  {
   "cell_type": "code",
   "execution_count": 88,
   "metadata": {
    "colab": {
     "base_uri": "https://localhost:8080/",
     "height": 36
    },
    "executionInfo": {
     "elapsed": 11,
     "status": "ok",
     "timestamp": 1754937049319,
     "user": {
      "displayName": "Alexsandro Oliveira Alexandrino",
      "userId": "14959848670292000444"
     },
     "user_tz": 180
    },
    "id": "sEkkN8YCEXQ3",
    "outputId": "296bb145-24cd-46f2-b3df-4dd17ca1f679"
   },
   "outputs": [
    {
     "data": {
      "application/vnd.google.colaboratory.intrinsic+json": {
       "type": "string"
      },
      "text/plain": [
       "'two'"
      ]
     },
     "execution_count": 88,
     "metadata": {},
     "output_type": "execute_result"
    }
   ],
   "source": [
    "digits[2]"
   ]
  },
  {
   "cell_type": "code",
   "execution_count": 89,
   "metadata": {
    "colab": {
     "base_uri": "https://localhost:8080/"
    },
    "executionInfo": {
     "elapsed": 21,
     "status": "ok",
     "timestamp": 1754937049344,
     "user": {
      "displayName": "Alexsandro Oliveira Alexandrino",
      "userId": "14959848670292000444"
     },
     "user_tz": 180
    },
    "id": "NjCtKTjCEXQ3",
    "outputId": "a3590e4c-7710-4de6-d12b-c659975f9f9b"
   },
   "outputs": [
    {
     "data": {
      "text/plain": [
       "3"
      ]
     },
     "execution_count": 89,
     "metadata": {},
     "output_type": "execute_result"
    }
   ],
   "source": [
    "len(digits)"
   ]
  },
  {
   "cell_type": "code",
   "execution_count": 90,
   "metadata": {
    "colab": {
     "base_uri": "https://localhost:8080/"
    },
    "executionInfo": {
     "elapsed": 59,
     "status": "ok",
     "timestamp": 1754937049413,
     "user": {
      "displayName": "Alexsandro Oliveira Alexandrino",
      "userId": "14959848670292000444"
     },
     "user_tz": 180
    },
    "id": "dAF6rUGYEXQ3",
    "outputId": "7c6b53c6-f4f0-43ba-ecbc-12b2a0de9da8"
   },
   "outputs": [
    {
     "data": {
      "text/plain": [
       "1"
      ]
     },
     "execution_count": 90,
     "metadata": {},
     "output_type": "execute_result"
    }
   ],
   "source": [
    "# conta o numero de ocorrências com o valor\n",
    "digits.count(0)"
   ]
  },
  {
   "cell_type": "code",
   "execution_count": 91,
   "metadata": {
    "colab": {
     "base_uri": "https://localhost:8080/"
    },
    "executionInfo": {
     "elapsed": 42,
     "status": "ok",
     "timestamp": 1754937049469,
     "user": {
      "displayName": "Alexsandro Oliveira Alexandrino",
      "userId": "14959848670292000444"
     },
     "user_tz": 180
    },
    "id": "mXBitrIVEXQ3",
    "outputId": "8b27e490-bb94-44f3-bb9c-a0f29a27705c"
   },
   "outputs": [
    {
     "data": {
      "text/plain": [
       "1"
      ]
     },
     "execution_count": 91,
     "metadata": {},
     "output_type": "execute_result"
    }
   ],
   "source": [
    "# rretorna o indice da primeira ocorrencia\n",
    "digits.index(1)"
   ]
  },
  {
   "cell_type": "markdown",
   "metadata": {
    "id": "8ZMQ0BgCEXQ4"
   },
   "source": [
    "**Modificar uma tupla:**"
   ]
  },
  {
   "cell_type": "code",
   "execution_count": 92,
   "metadata": {
    "colab": {
     "base_uri": "https://localhost:8080/",
     "height": 36
    },
    "executionInfo": {
     "elapsed": 16,
     "status": "ok",
     "timestamp": 1754937049490,
     "user": {
      "displayName": "Alexsandro Oliveira Alexandrino",
      "userId": "14959848670292000444"
     },
     "user_tz": 180
    },
    "id": "eUmUO-1LEXQ4",
    "outputId": "028a0a74-7572-48e1-8d83-103c6b4192b3"
   },
   "outputs": [
    {
     "data": {
      "application/vnd.google.colaboratory.intrinsic+json": {
       "type": "string"
      },
      "text/plain": [
       "'two'"
      ]
     },
     "execution_count": 92,
     "metadata": {},
     "output_type": "execute_result"
    }
   ],
   "source": [
    "# elementos de uma tupla não podem ser modificados\n",
    "digits[2]"
   ]
  },
  {
   "cell_type": "code",
   "execution_count": 93,
   "metadata": {
    "colab": {
     "base_uri": "https://localhost:8080/"
    },
    "executionInfo": {
     "elapsed": 23,
     "status": "ok",
     "timestamp": 1754937049521,
     "user": {
      "displayName": "Alexsandro Oliveira Alexandrino",
      "userId": "14959848670292000444"
     },
     "user_tz": 180
    },
    "id": "kQaoynJNEXQ4",
    "outputId": "be2d5f3e-3fa9-4d1c-f0e0-2e389ba7b215"
   },
   "outputs": [
    {
     "data": {
      "text/plain": [
       "(0, 1, 'two', 3, 4)"
      ]
     },
     "execution_count": 93,
     "metadata": {},
     "output_type": "execute_result"
    }
   ],
   "source": [
    "# concatena tuplas\n",
    "digits = digits + (3, 4)\n",
    "digits"
   ]
  },
  {
   "cell_type": "markdown",
   "metadata": {
    "id": "dgCev2BnEXQ6"
   },
   "source": [
    "**Outras operações:**"
   ]
  },
  {
   "cell_type": "code",
   "execution_count": 94,
   "metadata": {
    "colab": {
     "base_uri": "https://localhost:8080/"
    },
    "executionInfo": {
     "elapsed": 18,
     "status": "ok",
     "timestamp": 1754937049542,
     "user": {
      "displayName": "Alexsandro Oliveira Alexandrino",
      "userId": "14959848670292000444"
     },
     "user_tz": 180
    },
    "id": "y2_O2cV5EXQ6",
    "outputId": "5adc24fd-0085-46df-e41f-da0a46619b94"
   },
   "outputs": [
    {
     "data": {
      "text/plain": [
       "(3, 4, 3, 4)"
      ]
     },
     "execution_count": 94,
     "metadata": {},
     "output_type": "execute_result"
    }
   ],
   "source": [
    "# cria uma tupla com elementos repetidos\n",
    "(3, 4) * 2"
   ]
  },
  {
   "cell_type": "code",
   "execution_count": 95,
   "metadata": {
    "colab": {
     "base_uri": "https://localhost:8080/"
    },
    "executionInfo": {
     "elapsed": 19,
     "status": "ok",
     "timestamp": 1754937049558,
     "user": {
      "displayName": "Alexsandro Oliveira Alexandrino",
      "userId": "14959848670292000444"
     },
     "user_tz": 180
    },
    "id": "P_xkqxpKEXQ7",
    "outputId": "b7a2b57c-e7dc-4e1e-bb57-71100b458261"
   },
   "outputs": [
    {
     "data": {
      "text/plain": [
       "[(10, 40), (20, 30), (20, 60)]"
      ]
     },
     "execution_count": 95,
     "metadata": {},
     "output_type": "execute_result"
    }
   ],
   "source": [
    "# ordena uma lista de tuplas\n",
    "tens = [(20, 60), (10, 40), (20, 30)]\n",
    "sorted(tens)    # sorts by first element in tuple, then second element"
   ]
  },
  {
   "cell_type": "code",
   "execution_count": 96,
   "metadata": {
    "colab": {
     "base_uri": "https://localhost:8080/"
    },
    "executionInfo": {
     "elapsed": 11,
     "status": "ok",
     "timestamp": 1754937049573,
     "user": {
      "displayName": "Alexsandro Oliveira Alexandrino",
      "userId": "14959848670292000444"
     },
     "user_tz": 180
    },
    "id": "nYyyChbrEXQ7",
    "outputId": "5c7b2e87-1e15-426d-8998-222dadd94d9f"
   },
   "outputs": [
    {
     "name": "stdout",
     "output_type": "stream",
     "text": [
      "male\n",
      "10\n",
      "simpson\n"
     ]
    }
   ],
   "source": [
    "bart = ('male', 10, 'simpson')    # cria uma tupla\n",
    "(sex, age, surname) = bart        # 3 atribuições combinadas\n",
    "print(sex)\n",
    "print(age)\n",
    "print(surname)"
   ]
  },
  {
   "cell_type": "markdown",
   "metadata": {
    "id": "7aqioSWfEXQ7"
   },
   "source": [
    "## 8. Strings"
   ]
  },
  {
   "cell_type": "code",
   "execution_count": 97,
   "metadata": {
    "colab": {
     "base_uri": "https://localhost:8080/",
     "height": 36
    },
    "executionInfo": {
     "elapsed": 10,
     "status": "ok",
     "timestamp": 1754937049586,
     "user": {
      "displayName": "Alexsandro Oliveira Alexandrino",
      "userId": "14959848670292000444"
     },
     "user_tz": 180
    },
    "id": "SVwRcTwwEXQ7",
    "outputId": "3fcf3d49-ebd7-44e2-af9d-5f897fdcab0d"
   },
   "outputs": [
    {
     "data": {
      "application/vnd.google.colaboratory.intrinsic+json": {
       "type": "string"
      },
      "text/plain": [
       "'42'"
      ]
     },
     "execution_count": 97,
     "metadata": {},
     "output_type": "execute_result"
    }
   ],
   "source": [
    "# conversão\n",
    "s = str(42)\n",
    "s"
   ]
  },
  {
   "cell_type": "code",
   "execution_count": 98,
   "metadata": {
    "executionInfo": {
     "elapsed": 5,
     "status": "ok",
     "timestamp": 1754937049597,
     "user": {
      "displayName": "Alexsandro Oliveira Alexandrino",
      "userId": "14959848670292000444"
     },
     "user_tz": 180
    },
    "id": "vAvZVY9REXQ7"
   },
   "outputs": [],
   "source": [
    "# cria diretamente\n",
    "s = \"I like you\""
   ]
  },
  {
   "cell_type": "markdown",
   "metadata": {
    "id": "v4YoLUouEXQ8"
   },
   "source": [
    "**Checa uma string:**"
   ]
  },
  {
   "cell_type": "code",
   "execution_count": 99,
   "metadata": {
    "colab": {
     "base_uri": "https://localhost:8080/",
     "height": 36
    },
    "executionInfo": {
     "elapsed": 10,
     "status": "ok",
     "timestamp": 1754937049612,
     "user": {
      "displayName": "Alexsandro Oliveira Alexandrino",
      "userId": "14959848670292000444"
     },
     "user_tz": 180
    },
    "id": "ybj6cqQpEXQ8",
    "outputId": "bee38e90-0182-43e5-9b4c-01beab8ec5df"
   },
   "outputs": [
    {
     "data": {
      "application/vnd.google.colaboratory.intrinsic+json": {
       "type": "string"
      },
      "text/plain": [
       "'e'"
      ]
     },
     "execution_count": 99,
     "metadata": {},
     "output_type": "execute_result"
    }
   ],
   "source": [
    "s[-5]"
   ]
  },
  {
   "cell_type": "code",
   "execution_count": 100,
   "metadata": {
    "colab": {
     "base_uri": "https://localhost:8080/"
    },
    "executionInfo": {
     "elapsed": 22,
     "status": "ok",
     "timestamp": 1754937049640,
     "user": {
      "displayName": "Alexsandro Oliveira Alexandrino",
      "userId": "14959848670292000444"
     },
     "user_tz": 180
    },
    "id": "g9QVySFAEXQ8",
    "outputId": "bbf5e3ba-c4f6-4183-e61c-f43dfb5def6d"
   },
   "outputs": [
    {
     "data": {
      "text/plain": [
       "10"
      ]
     },
     "execution_count": 100,
     "metadata": {},
     "output_type": "execute_result"
    }
   ],
   "source": [
    "len(s)"
   ]
  },
  {
   "cell_type": "markdown",
   "metadata": {
    "id": "ngkydn85EXQ8"
   },
   "source": [
    "**Quebrando String:**"
   ]
  },
  {
   "cell_type": "code",
   "execution_count": 101,
   "metadata": {
    "colab": {
     "base_uri": "https://localhost:8080/",
     "height": 36
    },
    "executionInfo": {
     "elapsed": 12,
     "status": "ok",
     "timestamp": 1754937049656,
     "user": {
      "displayName": "Alexsandro Oliveira Alexandrino",
      "userId": "14959848670292000444"
     },
     "user_tz": 180
    },
    "id": "lXCAmb3SEXQ8",
    "outputId": "9eeb2454-df18-4ccc-cb36-1d674bfe70dd"
   },
   "outputs": [
    {
     "data": {
      "application/vnd.google.colaboratory.intrinsic+json": {
       "type": "string"
      },
      "text/plain": [
       "'I like'"
      ]
     },
     "execution_count": 101,
     "metadata": {},
     "output_type": "execute_result"
    }
   ],
   "source": [
    "s[:6]"
   ]
  },
  {
   "cell_type": "code",
   "execution_count": 102,
   "metadata": {
    "colab": {
     "base_uri": "https://localhost:8080/",
     "height": 36
    },
    "executionInfo": {
     "elapsed": 10,
     "status": "ok",
     "timestamp": 1754937049672,
     "user": {
      "displayName": "Alexsandro Oliveira Alexandrino",
      "userId": "14959848670292000444"
     },
     "user_tz": 180
    },
    "id": "BM6fNv1hEXQ9",
    "outputId": "62797c4f-db62-47f0-fc48-003324d54727"
   },
   "outputs": [
    {
     "data": {
      "application/vnd.google.colaboratory.intrinsic+json": {
       "type": "string"
      },
      "text/plain": [
       "'you'"
      ]
     },
     "execution_count": 102,
     "metadata": {},
     "output_type": "execute_result"
    }
   ],
   "source": [
    "s[7:]"
   ]
  },
  {
   "cell_type": "code",
   "execution_count": 103,
   "metadata": {
    "colab": {
     "base_uri": "https://localhost:8080/",
     "height": 36
    },
    "executionInfo": {
     "elapsed": 8,
     "status": "ok",
     "timestamp": 1754937049687,
     "user": {
      "displayName": "Alexsandro Oliveira Alexandrino",
      "userId": "14959848670292000444"
     },
     "user_tz": 180
    },
    "id": "azXCvIswEXQ9",
    "outputId": "4a5f5f1c-135f-448f-ba45-bd7b650d937b"
   },
   "outputs": [
    {
     "data": {
      "application/vnd.google.colaboratory.intrinsic+json": {
       "type": "string"
      },
      "text/plain": [
       "'u'"
      ]
     },
     "execution_count": 103,
     "metadata": {},
     "output_type": "execute_result"
    }
   ],
   "source": [
    "s[-1]"
   ]
  },
  {
   "cell_type": "markdown",
   "metadata": {
    "id": "Nqg_6aTFEXQ9"
   },
   "source": [
    "**Operações básicas:**"
   ]
  },
  {
   "cell_type": "code",
   "execution_count": 104,
   "metadata": {
    "colab": {
     "base_uri": "https://localhost:8080/",
     "height": 36
    },
    "executionInfo": {
     "elapsed": 13,
     "status": "ok",
     "timestamp": 1754937049704,
     "user": {
      "displayName": "Alexsandro Oliveira Alexandrino",
      "userId": "14959848670292000444"
     },
     "user_tz": 180
    },
    "id": "iTbHRAgOEXQ9",
    "outputId": "36f80e91-93b7-48a6-c40d-608eada53195"
   },
   "outputs": [
    {
     "data": {
      "application/vnd.google.colaboratory.intrinsic+json": {
       "type": "string"
      },
      "text/plain": [
       "'i like you'"
      ]
     },
     "execution_count": 104,
     "metadata": {},
     "output_type": "execute_result"
    }
   ],
   "source": [
    "s.lower()"
   ]
  },
  {
   "cell_type": "code",
   "execution_count": 105,
   "metadata": {
    "colab": {
     "base_uri": "https://localhost:8080/",
     "height": 36
    },
    "executionInfo": {
     "elapsed": 16,
     "status": "ok",
     "timestamp": 1754937049726,
     "user": {
      "displayName": "Alexsandro Oliveira Alexandrino",
      "userId": "14959848670292000444"
     },
     "user_tz": 180
    },
    "id": "v-152z1hEXQ-",
    "outputId": "4ee7ac73-21e9-48a0-9a1c-25c276ffcd76"
   },
   "outputs": [
    {
     "data": {
      "application/vnd.google.colaboratory.intrinsic+json": {
       "type": "string"
      },
      "text/plain": [
       "'I LIKE YOU'"
      ]
     },
     "execution_count": 105,
     "metadata": {},
     "output_type": "execute_result"
    }
   ],
   "source": [
    "s.upper()"
   ]
  },
  {
   "cell_type": "code",
   "execution_count": 106,
   "metadata": {
    "colab": {
     "base_uri": "https://localhost:8080/"
    },
    "executionInfo": {
     "elapsed": 39,
     "status": "ok",
     "timestamp": 1754937049759,
     "user": {
      "displayName": "Alexsandro Oliveira Alexandrino",
      "userId": "14959848670292000444"
     },
     "user_tz": 180
    },
    "id": "i9og2vqeEXQ-",
    "outputId": "fed19804-218c-430d-965f-9170ecc2b5eb"
   },
   "outputs": [
    {
     "data": {
      "text/plain": [
       "True"
      ]
     },
     "execution_count": 106,
     "metadata": {},
     "output_type": "execute_result"
    }
   ],
   "source": [
    "s.startswith('I')"
   ]
  },
  {
   "cell_type": "code",
   "execution_count": 107,
   "metadata": {
    "colab": {
     "base_uri": "https://localhost:8080/"
    },
    "executionInfo": {
     "elapsed": 15,
     "status": "ok",
     "timestamp": 1754937049778,
     "user": {
      "displayName": "Alexsandro Oliveira Alexandrino",
      "userId": "14959848670292000444"
     },
     "user_tz": 180
    },
    "id": "6KIEZ6PBEXQ-",
    "outputId": "2a1c4446-d05e-4616-c9cc-3cb3c2033395"
   },
   "outputs": [
    {
     "data": {
      "text/plain": [
       "True"
      ]
     },
     "execution_count": 107,
     "metadata": {},
     "output_type": "execute_result"
    }
   ],
   "source": [
    "s.endswith('you')"
   ]
  },
  {
   "cell_type": "code",
   "execution_count": 108,
   "metadata": {
    "colab": {
     "base_uri": "https://localhost:8080/"
    },
    "executionInfo": {
     "elapsed": 17,
     "status": "ok",
     "timestamp": 1754937049803,
     "user": {
      "displayName": "Alexsandro Oliveira Alexandrino",
      "userId": "14959848670292000444"
     },
     "user_tz": 180
    },
    "id": "ItjGRSXyEXQ-",
    "outputId": "9427a958-d914-4bff-e8f3-4ee816ca707c"
   },
   "outputs": [
    {
     "data": {
      "text/plain": [
       "False"
      ]
     },
     "execution_count": 108,
     "metadata": {},
     "output_type": "execute_result"
    }
   ],
   "source": [
    "# checa se os caracteres são digitos\n",
    "s.isdigit()"
   ]
  },
  {
   "cell_type": "code",
   "execution_count": 109,
   "metadata": {
    "colab": {
     "base_uri": "https://localhost:8080/"
    },
    "executionInfo": {
     "elapsed": 17,
     "status": "ok",
     "timestamp": 1754937049822,
     "user": {
      "displayName": "Alexsandro Oliveira Alexandrino",
      "userId": "14959848670292000444"
     },
     "user_tz": 180
    },
    "id": "55btoqJJEXQ-",
    "outputId": "34dfdad3-e863-42e8-cb4c-3966dd5b0031"
   },
   "outputs": [
    {
     "data": {
      "text/plain": [
       "2"
      ]
     },
     "execution_count": 109,
     "metadata": {},
     "output_type": "execute_result"
    }
   ],
   "source": [
    "# retorna indice da ocorrencia\n",
    "s.find('like')"
   ]
  },
  {
   "cell_type": "code",
   "execution_count": 110,
   "metadata": {
    "colab": {
     "base_uri": "https://localhost:8080/"
    },
    "executionInfo": {
     "elapsed": 14,
     "status": "ok",
     "timestamp": 1754937049850,
     "user": {
      "displayName": "Alexsandro Oliveira Alexandrino",
      "userId": "14959848670292000444"
     },
     "user_tz": 180
    },
    "id": "GmGm5jNLEXQ_",
    "outputId": "0d85e436-bb10-410b-e709-b339fecfaa2c"
   },
   "outputs": [
    {
     "data": {
      "text/plain": [
       "-1"
      ]
     },
     "execution_count": 110,
     "metadata": {},
     "output_type": "execute_result"
    }
   ],
   "source": [
    "# retorna -1 quando não encontra\n",
    "s.find('hate')"
   ]
  },
  {
   "cell_type": "code",
   "execution_count": 111,
   "metadata": {
    "colab": {
     "base_uri": "https://localhost:8080/",
     "height": 36
    },
    "executionInfo": {
     "elapsed": 83,
     "status": "ok",
     "timestamp": 1754937049947,
     "user": {
      "displayName": "Alexsandro Oliveira Alexandrino",
      "userId": "14959848670292000444"
     },
     "user_tz": 180
    },
    "id": "ZTXvp3JIEXQ_",
    "outputId": "0ecb0022-3bb8-4e34-fd89-8e0b02781836"
   },
   "outputs": [
    {
     "data": {
      "application/vnd.google.colaboratory.intrinsic+json": {
       "type": "string"
      },
      "text/plain": [
       "'I love you'"
      ]
     },
     "execution_count": 111,
     "metadata": {},
     "output_type": "execute_result"
    }
   ],
   "source": [
    "# substitui todas as ocorrencias de 'like' por 'love'\n",
    "s.replace('like', 'love')"
   ]
  },
  {
   "cell_type": "markdown",
   "metadata": {
    "id": "-kJhBWwfEXQ_"
   },
   "source": [
    "**Dividindo uma string:**"
   ]
  },
  {
   "cell_type": "code",
   "execution_count": 112,
   "metadata": {
    "colab": {
     "base_uri": "https://localhost:8080/"
    },
    "executionInfo": {
     "elapsed": 66,
     "status": "ok",
     "timestamp": 1754937049949,
     "user": {
      "displayName": "Alexsandro Oliveira Alexandrino",
      "userId": "14959848670292000444"
     },
     "user_tz": 180
    },
    "id": "TO05cURTEXQ_",
    "outputId": "5f6c2c97-0380-468b-ccea-c15f5a0800b5"
   },
   "outputs": [
    {
     "name": "stdout",
     "output_type": "stream",
     "text": [
      "I like you\n"
     ]
    }
   ],
   "source": [
    "# Dividir uma string em uma lista com separador\n",
    "s.split(' ')\n",
    "print(s)"
   ]
  },
  {
   "cell_type": "code",
   "execution_count": 113,
   "metadata": {
    "colab": {
     "base_uri": "https://localhost:8080/"
    },
    "executionInfo": {
     "elapsed": 15,
     "status": "ok",
     "timestamp": 1754937049965,
     "user": {
      "displayName": "Alexsandro Oliveira Alexandrino",
      "userId": "14959848670292000444"
     },
     "user_tz": 180
    },
    "id": "qt347QW_EXRA",
    "outputId": "1679f1e4-3bab-48cc-dbfb-df1fe55ac976"
   },
   "outputs": [
    {
     "data": {
      "text/plain": [
       "['I', 'like', 'you']"
      ]
     },
     "execution_count": 113,
     "metadata": {},
     "output_type": "execute_result"
    }
   ],
   "source": [
    "# equivalente pois espaço é o padrão\n",
    "s.split()"
   ]
  },
  {
   "cell_type": "code",
   "execution_count": 114,
   "metadata": {
    "colab": {
     "base_uri": "https://localhost:8080/"
    },
    "executionInfo": {
     "elapsed": 38,
     "status": "ok",
     "timestamp": 1754937050006,
     "user": {
      "displayName": "Alexsandro Oliveira Alexandrino",
      "userId": "14959848670292000444"
     },
     "user_tz": 180
    },
    "id": "ntC7lVmVEXRA",
    "outputId": "e73a40b2-3542-4bd7-a7d1-1f15854df2a8"
   },
   "outputs": [
    {
     "data": {
      "text/plain": [
       "['a', ' an', ' the']"
      ]
     },
     "execution_count": 114,
     "metadata": {},
     "output_type": "execute_result"
    }
   ],
   "source": [
    "s2 = 'a, an, the'\n",
    "s2.split(',')"
   ]
  },
  {
   "cell_type": "code",
   "execution_count": 115,
   "metadata": {
    "colab": {
     "base_uri": "https://localhost:8080/",
     "height": 36
    },
    "executionInfo": {
     "elapsed": 7,
     "status": "ok",
     "timestamp": 1754937050018,
     "user": {
      "displayName": "Alexsandro Oliveira Alexandrino",
      "userId": "14959848670292000444"
     },
     "user_tz": 180
    },
    "id": "TwOWe130EXRB",
    "outputId": "743cf683-06f5-43c0-f60d-90af298eb4f9",
    "scrolled": true
   },
   "outputs": [
    {
     "data": {
      "application/vnd.google.colaboratory.intrinsic+json": {
       "type": "string"
      },
      "text/plain": [
       "'The meaning of life is 42'"
      ]
     },
     "execution_count": 115,
     "metadata": {},
     "output_type": "execute_result"
    }
   ],
   "source": [
    "# concatena\n",
    "s3 = 'The meaning of life is'\n",
    "s4 = '42'\n",
    "s3 + ' ' + s4"
   ]
  },
  {
   "cell_type": "markdown",
   "metadata": {
    "id": "NcchyL-HEXRC"
   },
   "source": [
    "**Remove espaços do inicio e fim:**"
   ]
  },
  {
   "cell_type": "code",
   "execution_count": 116,
   "metadata": {
    "colab": {
     "base_uri": "https://localhost:8080/",
     "height": 36
    },
    "executionInfo": {
     "elapsed": 9,
     "status": "ok",
     "timestamp": 1754937050036,
     "user": {
      "displayName": "Alexsandro Oliveira Alexandrino",
      "userId": "14959848670292000444"
     },
     "user_tz": 180
    },
    "id": "T0T-ba0vEXRC",
    "outputId": "c870682a-7b04-41a9-f55a-d26f11d71c77"
   },
   "outputs": [
    {
     "data": {
      "application/vnd.google.colaboratory.intrinsic+json": {
       "type": "string"
      },
      "text/plain": [
       "'ham and cheese'"
      ]
     },
     "execution_count": 116,
     "metadata": {},
     "output_type": "execute_result"
    }
   ],
   "source": [
    "s5 = '  ham and cheese  '\n",
    "s5.strip()"
   ]
  },
  {
   "cell_type": "code",
   "execution_count": 117,
   "metadata": {
    "colab": {
     "base_uri": "https://localhost:8080/",
     "height": 36
    },
    "executionInfo": {
     "elapsed": 12,
     "status": "ok",
     "timestamp": 1754937050055,
     "user": {
      "displayName": "Alexsandro Oliveira Alexandrino",
      "userId": "14959848670292000444"
     },
     "user_tz": 180
    },
    "id": "PLRE8_TlEXRC",
    "outputId": "276fcf18-d0da-4179-9e38-4398ef3738a2"
   },
   "outputs": [
    {
     "data": {
      "application/vnd.google.colaboratory.intrinsic+json": {
       "type": "string"
      },
      "text/plain": [
       "'raining cats and dogs'"
      ]
     },
     "execution_count": 117,
     "metadata": {},
     "output_type": "execute_result"
    }
   ],
   "source": [
    "# substituições\n",
    "'raining {} and {}'.format('cats', 'dogs')"
   ]
  },
  {
   "cell_type": "code",
   "execution_count": 118,
   "metadata": {
    "colab": {
     "base_uri": "https://localhost:8080/",
     "height": 36
    },
    "executionInfo": {
     "elapsed": 18,
     "status": "ok",
     "timestamp": 1754937050070,
     "user": {
      "displayName": "Alexsandro Oliveira Alexandrino",
      "userId": "14959848670292000444"
     },
     "user_tz": 180
    },
    "id": "gyvlzylZEXRD",
    "outputId": "27d0c17c-d52e-4ade-aa95-663fdb60cc6a",
    "scrolled": true
   },
   "outputs": [
    {
     "data": {
      "application/vnd.google.colaboratory.intrinsic+json": {
       "type": "string"
      },
      "text/plain": [
       "'raining cats and dogs'"
      ]
     },
     "execution_count": 118,
     "metadata": {},
     "output_type": "execute_result"
    }
   ],
   "source": [
    "# substituições 2\n",
    "'raining {arg1} and {arg2}'.format(arg1='cats', arg2='dogs')"
   ]
  },
  {
   "cell_type": "code",
   "execution_count": 119,
   "metadata": {
    "colab": {
     "base_uri": "https://localhost:8080/",
     "height": 36
    },
    "executionInfo": {
     "elapsed": 14,
     "status": "ok",
     "timestamp": 1754937050091,
     "user": {
      "displayName": "Alexsandro Oliveira Alexandrino",
      "userId": "14959848670292000444"
     },
     "user_tz": 180
    },
    "id": "1obVPS9AEXRD",
    "outputId": "fb56bb66-177c-456d-b295-519e2cd83e08"
   },
   "outputs": [
    {
     "data": {
      "application/vnd.google.colaboratory.intrinsic+json": {
       "type": "string"
      },
      "text/plain": [
       "'pi is 3.14'"
      ]
     },
     "execution_count": 119,
     "metadata": {},
     "output_type": "execute_result"
    }
   ],
   "source": [
    "# formatação decimal\n",
    "'pi is {:.2f}'.format(3.14159)"
   ]
  },
  {
   "cell_type": "markdown",
   "metadata": {
    "id": "59GJaCn5EXRD"
   },
   "source": [
    "## 9. Dicionários\n",
    "\n",
    "- **Propriedades:** não ordenado, itera, muda, pode contar multiplos tipos\n",
    "- Feito de pares key-value\n",
    "- Chaves devem ser únicas e podem ser strings, numeros ou tuplas"
   ]
  },
  {
   "cell_type": "code",
   "execution_count": 120,
   "metadata": {
    "executionInfo": {
     "elapsed": 32,
     "status": "ok",
     "timestamp": 1754937050115,
     "user": {
      "displayName": "Alexsandro Oliveira Alexandrino",
      "userId": "14959848670292000444"
     },
     "user_tz": 180
    },
    "id": "GvDLcaWFEXRD"
   },
   "outputs": [],
   "source": [
    "# dic. vazio\n",
    "empty_dict = {}\n",
    "empty_dict = dict()"
   ]
  },
  {
   "cell_type": "code",
   "execution_count": 121,
   "metadata": {
    "colab": {
     "base_uri": "https://localhost:8080/"
    },
    "executionInfo": {
     "elapsed": 29,
     "status": "ok",
     "timestamp": 1754937050122,
     "user": {
      "displayName": "Alexsandro Oliveira Alexandrino",
      "userId": "14959848670292000444"
     },
     "user_tz": 180
    },
    "id": "dsqriL4XEXRD",
    "outputId": "4e850799-ea90-45e4-96e7-ab3630b18451"
   },
   "outputs": [
    {
     "data": {
      "text/plain": [
       "{'dad': 'homer', 'mom': 'marge', 'size': 6}"
      ]
     },
     "execution_count": 121,
     "metadata": {},
     "output_type": "execute_result"
    }
   ],
   "source": [
    "# 2 formas de criar um dic.\n",
    "family = {'dad':'homer', 'mom':'marge', 'size':6}\n",
    "family = dict(dad='homer', mom='marge', size=6)\n",
    "family"
   ]
  },
  {
   "cell_type": "code",
   "execution_count": 122,
   "metadata": {
    "colab": {
     "base_uri": "https://localhost:8080/"
    },
    "executionInfo": {
     "elapsed": 26,
     "status": "ok",
     "timestamp": 1754937050139,
     "user": {
      "displayName": "Alexsandro Oliveira Alexandrino",
      "userId": "14959848670292000444"
     },
     "user_tz": 180
    },
    "id": "RNq2c6YHEXRE",
    "outputId": "c539585e-b181-47d2-daf4-0e3d9fe734d3"
   },
   "outputs": [
    {
     "data": {
      "text/plain": [
       "{'dad': 'homer', 'mom': 'marge', 'size': 6}"
      ]
     },
     "execution_count": 122,
     "metadata": {},
     "output_type": "execute_result"
    }
   ],
   "source": [
    "# converte uma lista de tuplas em um dic.\n",
    "list_of_tuples = [('dad', 'homer'), ('mom', 'marge'), ('size', 6)]\n",
    "family = dict(list_of_tuples)\n",
    "family"
   ]
  },
  {
   "cell_type": "markdown",
   "metadata": {
    "id": "g-fhWEI8EXRG"
   },
   "source": [
    "**Checa um dic.:**"
   ]
  },
  {
   "cell_type": "code",
   "execution_count": 123,
   "metadata": {
    "colab": {
     "base_uri": "https://localhost:8080/",
     "height": 36
    },
    "executionInfo": {
     "elapsed": 8,
     "status": "ok",
     "timestamp": 1754937050147,
     "user": {
      "displayName": "Alexsandro Oliveira Alexandrino",
      "userId": "14959848670292000444"
     },
     "user_tz": 180
    },
    "id": "Jy5UpzQ6EXRG",
    "outputId": "16c7824f-900d-42ac-9d83-a45e670ab1dc"
   },
   "outputs": [
    {
     "data": {
      "application/vnd.google.colaboratory.intrinsic+json": {
       "type": "string"
      },
      "text/plain": [
       "'homer'"
      ]
     },
     "execution_count": 123,
     "metadata": {},
     "output_type": "execute_result"
    }
   ],
   "source": [
    "# passa a chave e retorna o valor\n",
    "family['dad']"
   ]
  },
  {
   "cell_type": "code",
   "execution_count": 124,
   "metadata": {
    "colab": {
     "base_uri": "https://localhost:8080/"
    },
    "executionInfo": {
     "elapsed": 19,
     "status": "ok",
     "timestamp": 1754937050176,
     "user": {
      "displayName": "Alexsandro Oliveira Alexandrino",
      "userId": "14959848670292000444"
     },
     "user_tz": 180
    },
    "id": "DwghFrF2EXRG",
    "outputId": "8faae8d6-752c-4fc9-d967-9dfa4cf87e32"
   },
   "outputs": [
    {
     "data": {
      "text/plain": [
       "3"
      ]
     },
     "execution_count": 124,
     "metadata": {},
     "output_type": "execute_result"
    }
   ],
   "source": [
    "# retorna o número de pares key-value\n",
    "len(family)"
   ]
  },
  {
   "cell_type": "code",
   "execution_count": 125,
   "metadata": {
    "colab": {
     "base_uri": "https://localhost:8080/"
    },
    "executionInfo": {
     "elapsed": 12,
     "status": "ok",
     "timestamp": 1754937050194,
     "user": {
      "displayName": "Alexsandro Oliveira Alexandrino",
      "userId": "14959848670292000444"
     },
     "user_tz": 180
    },
    "id": "C6YXXE5KEXRH",
    "outputId": "46d5e7f3-644f-46fd-90d0-f52f63faacf9"
   },
   "outputs": [
    {
     "data": {
      "text/plain": [
       "True"
      ]
     },
     "execution_count": 125,
     "metadata": {},
     "output_type": "execute_result"
    }
   ],
   "source": [
    "# checa se uma chave existe\n",
    "'mom' in family"
   ]
  },
  {
   "cell_type": "code",
   "execution_count": 126,
   "metadata": {
    "colab": {
     "base_uri": "https://localhost:8080/"
    },
    "executionInfo": {
     "elapsed": 12,
     "status": "ok",
     "timestamp": 1754937050209,
     "user": {
      "displayName": "Alexsandro Oliveira Alexandrino",
      "userId": "14959848670292000444"
     },
     "user_tz": 180
    },
    "id": "m402yUiOEXRH",
    "outputId": "024378f1-6546-450c-be51-a80e65e9a8f4"
   },
   "outputs": [
    {
     "data": {
      "text/plain": [
       "False"
      ]
     },
     "execution_count": 126,
     "metadata": {},
     "output_type": "execute_result"
    }
   ],
   "source": [
    "# valores não são checados\n",
    "'marge' in family"
   ]
  },
  {
   "cell_type": "code",
   "execution_count": 127,
   "metadata": {
    "colab": {
     "base_uri": "https://localhost:8080/"
    },
    "executionInfo": {
     "elapsed": 13,
     "status": "ok",
     "timestamp": 1754937050227,
     "user": {
      "displayName": "Alexsandro Oliveira Alexandrino",
      "userId": "14959848670292000444"
     },
     "user_tz": 180
    },
    "id": "5e0Rt2MDEXRH",
    "outputId": "013badbe-da9b-4e08-e8c4-bf7f22b98408"
   },
   "outputs": [
    {
     "data": {
      "text/plain": [
       "dict_values(['homer', 'marge', 6])"
      ]
     },
     "execution_count": 127,
     "metadata": {},
     "output_type": "execute_result"
    }
   ],
   "source": [
    "# retorna uma view iterable\n",
    "family.values()"
   ]
  },
  {
   "cell_type": "code",
   "execution_count": 128,
   "metadata": {
    "colab": {
     "base_uri": "https://localhost:8080/"
    },
    "executionInfo": {
     "elapsed": 13,
     "status": "ok",
     "timestamp": 1754937050243,
     "user": {
      "displayName": "Alexsandro Oliveira Alexandrino",
      "userId": "14959848670292000444"
     },
     "user_tz": 180
    },
    "id": "juH5gamuEXRH",
    "outputId": "b97affd0-1bda-4d57-cba4-6178d17d0698"
   },
   "outputs": [
    {
     "data": {
      "text/plain": [
       "dict_items([('dad', 'homer'), ('mom', 'marge'), ('size', 6)])"
      ]
     },
     "execution_count": 128,
     "metadata": {},
     "output_type": "execute_result"
    }
   ],
   "source": [
    "# retorna uma view iterable\n",
    "family.items()"
   ]
  },
  {
   "cell_type": "markdown",
   "metadata": {
    "id": "p1snUpJoEXRH"
   },
   "source": [
    "**Modificações:**"
   ]
  },
  {
   "cell_type": "code",
   "execution_count": 129,
   "metadata": {
    "colab": {
     "base_uri": "https://localhost:8080/"
    },
    "executionInfo": {
     "elapsed": 14,
     "status": "ok",
     "timestamp": 1754937050260,
     "user": {
      "displayName": "Alexsandro Oliveira Alexandrino",
      "userId": "14959848670292000444"
     },
     "user_tz": 180
    },
    "id": "jtSngA-nEXRH",
    "outputId": "2930f763-75e0-4a18-e054-a4009224997e"
   },
   "outputs": [
    {
     "data": {
      "text/plain": [
       "{'dad': 'homer', 'mom': 'marge', 'size': 6, 'cat': 'snowball'}"
      ]
     },
     "execution_count": 129,
     "metadata": {},
     "output_type": "execute_result"
    }
   ],
   "source": [
    "# nova entrada\n",
    "family['cat'] = 'snowball'\n",
    "family"
   ]
  },
  {
   "cell_type": "code",
   "execution_count": 130,
   "metadata": {
    "colab": {
     "base_uri": "https://localhost:8080/"
    },
    "executionInfo": {
     "elapsed": 14,
     "status": "ok",
     "timestamp": 1754937050278,
     "user": {
      "displayName": "Alexsandro Oliveira Alexandrino",
      "userId": "14959848670292000444"
     },
     "user_tz": 180
    },
    "id": "yqtDcBjiEXRI",
    "outputId": "89f5a556-904e-4bef-fc59-a3ee3fd25a0f"
   },
   "outputs": [
    {
     "data": {
      "text/plain": [
       "{'dad': 'homer', 'mom': 'marge', 'size': 6, 'cat': 'snowball ii'}"
      ]
     },
     "execution_count": 130,
     "metadata": {},
     "output_type": "execute_result"
    }
   ],
   "source": [
    "# editando um item\n",
    "family['cat'] = 'snowball ii'\n",
    "family"
   ]
  },
  {
   "cell_type": "code",
   "execution_count": 131,
   "metadata": {
    "colab": {
     "base_uri": "https://localhost:8080/"
    },
    "executionInfo": {
     "elapsed": 10,
     "status": "ok",
     "timestamp": 1754937050295,
     "user": {
      "displayName": "Alexsandro Oliveira Alexandrino",
      "userId": "14959848670292000444"
     },
     "user_tz": 180
    },
    "id": "JPAg1umNEXRI",
    "outputId": "372fc738-aae4-49f0-cf61-faa9f4d9507b"
   },
   "outputs": [
    {
     "data": {
      "text/plain": [
       "{'dad': 'homer', 'mom': 'marge', 'size': 6}"
      ]
     },
     "execution_count": 131,
     "metadata": {},
     "output_type": "execute_result"
    }
   ],
   "source": [
    "# deletando um item\n",
    "del family['cat']\n",
    "family"
   ]
  },
  {
   "cell_type": "code",
   "execution_count": 132,
   "metadata": {
    "colab": {
     "base_uri": "https://localhost:8080/"
    },
    "executionInfo": {
     "elapsed": 16,
     "status": "ok",
     "timestamp": 1754937050313,
     "user": {
      "displayName": "Alexsandro Oliveira Alexandrino",
      "userId": "14959848670292000444"
     },
     "user_tz": 180
    },
    "id": "kuEMznLrEXRI",
    "outputId": "e8edb996-7156-416e-adba-c51b84d2e3e1"
   },
   "outputs": [
    {
     "data": {
      "text/plain": [
       "{'dad': 'homer', 'mom': 'marge', 'size': 6, 'kids': ['bart', 'lisa']}"
      ]
     },
     "execution_count": 132,
     "metadata": {},
     "output_type": "execute_result"
    }
   ],
   "source": [
    "# valores podem ser listas\n",
    "family['kids'] = ['bart', 'lisa']\n",
    "family"
   ]
  },
  {
   "cell_type": "code",
   "execution_count": 133,
   "metadata": {
    "colab": {
     "base_uri": "https://localhost:8080/",
     "height": 36
    },
    "executionInfo": {
     "elapsed": 9,
     "status": "ok",
     "timestamp": 1754937050326,
     "user": {
      "displayName": "Alexsandro Oliveira Alexandrino",
      "userId": "14959848670292000444"
     },
     "user_tz": 180
    },
    "id": "xbGJSJebEXRJ",
    "outputId": "4909247a-cce0-4aaa-ebf1-bd66ae24a472"
   },
   "outputs": [
    {
     "data": {
      "application/vnd.google.colaboratory.intrinsic+json": {
       "type": "string"
      },
      "text/plain": [
       "'homer'"
      ]
     },
     "execution_count": 133,
     "metadata": {},
     "output_type": "execute_result"
    }
   ],
   "source": [
    "# remove um item e retorna seu valor\n",
    "family.pop('dad')"
   ]
  },
  {
   "cell_type": "code",
   "execution_count": 134,
   "metadata": {
    "colab": {
     "base_uri": "https://localhost:8080/"
    },
    "executionInfo": {
     "elapsed": 22,
     "status": "ok",
     "timestamp": 1754937050351,
     "user": {
      "displayName": "Alexsandro Oliveira Alexandrino",
      "userId": "14959848670292000444"
     },
     "user_tz": 180
    },
    "id": "rP1PKKcVEXRJ",
    "outputId": "17927a01-5880-441d-87a6-75e216baccf1"
   },
   "outputs": [
    {
     "data": {
      "text/plain": [
       "{'mom': 'marge',\n",
       " 'size': 6,\n",
       " 'kids': ['bart', 'lisa'],\n",
       " 'baby': 'maggie',\n",
       " 'grandpa': 'abe'}"
      ]
     },
     "execution_count": 134,
     "metadata": {},
     "output_type": "execute_result"
    }
   ],
   "source": [
    "# adiciona entradas multiplas\n",
    "family.update({'baby':'maggie', 'grandpa':'abe'})\n",
    "family"
   ]
  },
  {
   "cell_type": "markdown",
   "metadata": {
    "id": "PEM-h8E5EXRJ"
   },
   "source": [
    "**Acessando valores de forma mais segura com `get`:**"
   ]
  },
  {
   "cell_type": "code",
   "execution_count": 135,
   "metadata": {
    "colab": {
     "base_uri": "https://localhost:8080/",
     "height": 36
    },
    "executionInfo": {
     "elapsed": 13,
     "status": "ok",
     "timestamp": 1754937050357,
     "user": {
      "displayName": "Alexsandro Oliveira Alexandrino",
      "userId": "14959848670292000444"
     },
     "user_tz": 180
    },
    "id": "Fubw_smFEXRJ",
    "outputId": "2354cd19-1969-4daa-b67f-5d07f4deff45"
   },
   "outputs": [
    {
     "data": {
      "application/vnd.google.colaboratory.intrinsic+json": {
       "type": "string"
      },
      "text/plain": [
       "'marge'"
      ]
     },
     "execution_count": 135,
     "metadata": {},
     "output_type": "execute_result"
    }
   ],
   "source": [
    "family['mom']"
   ]
  },
  {
   "cell_type": "code",
   "execution_count": 136,
   "metadata": {
    "colab": {
     "base_uri": "https://localhost:8080/",
     "height": 36
    },
    "executionInfo": {
     "elapsed": 19,
     "status": "ok",
     "timestamp": 1754937050381,
     "user": {
      "displayName": "Alexsandro Oliveira Alexandrino",
      "userId": "14959848670292000444"
     },
     "user_tz": 180
    },
    "id": "_pxpyd_YEXRJ",
    "outputId": "de29443b-a6bf-493d-ef26-7b062b2d0d5c"
   },
   "outputs": [
    {
     "data": {
      "application/vnd.google.colaboratory.intrinsic+json": {
       "type": "string"
      },
      "text/plain": [
       "'marge'"
      ]
     },
     "execution_count": 136,
     "metadata": {},
     "output_type": "execute_result"
    }
   ],
   "source": [
    "family.get('mom')"
   ]
  },
  {
   "cell_type": "code",
   "execution_count": 137,
   "metadata": {
    "executionInfo": {
     "elapsed": 13,
     "status": "ok",
     "timestamp": 1754937050382,
     "user": {
      "displayName": "Alexsandro Oliveira Alexandrino",
      "userId": "14959848670292000444"
     },
     "user_tz": 180
    },
    "id": "KOhhlPZBEXRJ"
   },
   "outputs": [],
   "source": [
    "# erro mais a chave não existe\n",
    "# family['grandma']"
   ]
  },
  {
   "cell_type": "code",
   "execution_count": 138,
   "metadata": {
    "executionInfo": {
     "elapsed": 18,
     "status": "ok",
     "timestamp": 1754937050394,
     "user": {
      "displayName": "Alexsandro Oliveira Alexandrino",
      "userId": "14959848670292000444"
     },
     "user_tz": 180
    },
    "id": "NTE3p2-CEXRJ"
   },
   "outputs": [],
   "source": [
    "family.get('grandma')"
   ]
  },
  {
   "cell_type": "code",
   "execution_count": 139,
   "metadata": {
    "colab": {
     "base_uri": "https://localhost:8080/",
     "height": 36
    },
    "executionInfo": {
     "elapsed": 16,
     "status": "ok",
     "timestamp": 1754937050402,
     "user": {
      "displayName": "Alexsandro Oliveira Alexandrino",
      "userId": "14959848670292000444"
     },
     "user_tz": 180
    },
    "id": "nXTtdY4lEXRJ",
    "outputId": "e2334bde-66eb-43f4-d387-b6ade55c0367"
   },
   "outputs": [
    {
     "data": {
      "application/vnd.google.colaboratory.intrinsic+json": {
       "type": "string"
      },
      "text/plain": [
       "'not found'"
      ]
     },
     "execution_count": 139,
     "metadata": {},
     "output_type": "execute_result"
    }
   ],
   "source": [
    "# especifica um valor padrão para não encontrado\n",
    "family.get('grandma', 'not found')"
   ]
  },
  {
   "cell_type": "markdown",
   "metadata": {
    "id": "ahDlfOVOEXRK"
   },
   "source": [
    "**Acesso a uma lista em um dic.:**"
   ]
  },
  {
   "cell_type": "code",
   "execution_count": 140,
   "metadata": {
    "colab": {
     "base_uri": "https://localhost:8080/",
     "height": 36
    },
    "executionInfo": {
     "elapsed": 9,
     "status": "ok",
     "timestamp": 1754937050409,
     "user": {
      "displayName": "Alexsandro Oliveira Alexandrino",
      "userId": "14959848670292000444"
     },
     "user_tz": 180
    },
    "id": "NuPfaKnrEXRK",
    "outputId": "b329a29d-e877-45a0-a62d-83d7a0633eb3"
   },
   "outputs": [
    {
     "data": {
      "application/vnd.google.colaboratory.intrinsic+json": {
       "type": "string"
      },
      "text/plain": [
       "'bart'"
      ]
     },
     "execution_count": 140,
     "metadata": {},
     "output_type": "execute_result"
    }
   ],
   "source": [
    "family['kids'][0]"
   ]
  },
  {
   "cell_type": "code",
   "execution_count": 141,
   "metadata": {
    "colab": {
     "base_uri": "https://localhost:8080/"
    },
    "executionInfo": {
     "elapsed": 21,
     "status": "ok",
     "timestamp": 1754937050436,
     "user": {
      "displayName": "Alexsandro Oliveira Alexandrino",
      "userId": "14959848670292000444"
     },
     "user_tz": 180
    },
    "id": "r8T8gIezEXRL",
    "outputId": "2a441798-2452-4cc5-f86c-0f86c3c0b3b8"
   },
   "outputs": [
    {
     "data": {
      "text/plain": [
       "{'mom': 'marge',\n",
       " 'size': 6,\n",
       " 'kids': ['bart'],\n",
       " 'baby': 'maggie',\n",
       " 'grandpa': 'abe'}"
      ]
     },
     "execution_count": 141,
     "metadata": {},
     "output_type": "execute_result"
    }
   ],
   "source": [
    "family['kids'].remove('lisa')\n",
    "family"
   ]
  },
  {
   "cell_type": "markdown",
   "metadata": {
    "id": "dAjA29wBEXRL"
   },
   "source": [
    "## 10. Funções"
   ]
  },
  {
   "cell_type": "code",
   "execution_count": 142,
   "metadata": {
    "executionInfo": {
     "elapsed": 2,
     "status": "ok",
     "timestamp": 1754937050441,
     "user": {
      "displayName": "Alexsandro Oliveira Alexandrino",
      "userId": "14959848670292000444"
     },
     "user_tz": 180
    },
    "id": "0GSQY9QVEXRL"
   },
   "outputs": [],
   "source": [
    "def print_text():\n",
    "    print('this is text')"
   ]
  },
  {
   "cell_type": "code",
   "execution_count": 143,
   "metadata": {
    "colab": {
     "base_uri": "https://localhost:8080/"
    },
    "executionInfo": {
     "elapsed": 14,
     "status": "ok",
     "timestamp": 1754937050459,
     "user": {
      "displayName": "Alexsandro Oliveira Alexandrino",
      "userId": "14959848670292000444"
     },
     "user_tz": 180
    },
    "id": "4v-66IKwEXRM",
    "outputId": "bf47cd13-5686-4f9d-92a1-30fb4f20ffde"
   },
   "outputs": [
    {
     "name": "stdout",
     "output_type": "stream",
     "text": [
      "this is text\n"
     ]
    }
   ],
   "source": [
    "# chama a função\n",
    "print_text()"
   ]
  },
  {
   "cell_type": "code",
   "execution_count": 144,
   "metadata": {
    "executionInfo": {
     "elapsed": 21,
     "status": "ok",
     "timestamp": 1754937050483,
     "user": {
      "displayName": "Alexsandro Oliveira Alexandrino",
      "userId": "14959848670292000444"
     },
     "user_tz": 180
    },
    "id": "m3v7IytcEXRM"
   },
   "outputs": [],
   "source": [
    "def print_this(x):\n",
    "    print(x)"
   ]
  },
  {
   "cell_type": "code",
   "execution_count": 145,
   "metadata": {
    "colab": {
     "base_uri": "https://localhost:8080/"
    },
    "executionInfo": {
     "elapsed": 21,
     "status": "ok",
     "timestamp": 1754937050487,
     "user": {
      "displayName": "Alexsandro Oliveira Alexandrino",
      "userId": "14959848670292000444"
     },
     "user_tz": 180
    },
    "id": "0H2uC5X9EXRM",
    "outputId": "9d82ac6c-06f7-45c0-8ac0-c85d78c7d971"
   },
   "outputs": [
    {
     "name": "stdout",
     "output_type": "stream",
     "text": [
      "2.5\n"
     ]
    }
   ],
   "source": [
    "print_this(2.5)"
   ]
  },
  {
   "cell_type": "code",
   "execution_count": 146,
   "metadata": {
    "executionInfo": {
     "elapsed": 2,
     "status": "ok",
     "timestamp": 1754937050493,
     "user": {
      "displayName": "Alexsandro Oliveira Alexandrino",
      "userId": "14959848670292000444"
     },
     "user_tz": 180
    },
    "id": "85BAOHFBEXRM"
   },
   "outputs": [],
   "source": [
    "def square_this(x):\n",
    "    return x**2, x+2"
   ]
  },
  {
   "cell_type": "code",
   "execution_count": 147,
   "metadata": {
    "colab": {
     "base_uri": "https://localhost:8080/"
    },
    "executionInfo": {
     "elapsed": 15,
     "status": "ok",
     "timestamp": 1754937050512,
     "user": {
      "displayName": "Alexsandro Oliveira Alexandrino",
      "userId": "14959848670292000444"
     },
     "user_tz": 180
    },
    "id": "hoCZ-qfREXRN",
    "outputId": "9d028f38-eb19-4293-ba72-fc533e02faf4"
   },
   "outputs": [
    {
     "name": "stdout",
     "output_type": "stream",
     "text": [
      "9\n",
      "5\n"
     ]
    }
   ],
   "source": [
    "(n, m) = square_this(3)\n",
    "print(n)\n",
    "print(m)"
   ]
  },
  {
   "cell_type": "code",
   "execution_count": 148,
   "metadata": {
    "executionInfo": {
     "elapsed": 7,
     "status": "ok",
     "timestamp": 1754937050524,
     "user": {
      "displayName": "Alexsandro Oliveira Alexandrino",
      "userId": "14959848670292000444"
     },
     "user_tz": 180
    },
    "id": "GxvWkVm_EXRN"
   },
   "outputs": [],
   "source": [
    "var = square_this(3)"
   ]
  },
  {
   "cell_type": "code",
   "execution_count": 149,
   "metadata": {
    "executionInfo": {
     "elapsed": 8,
     "status": "ok",
     "timestamp": 1754937050531,
     "user": {
      "displayName": "Alexsandro Oliveira Alexandrino",
      "userId": "14959848670292000444"
     },
     "user_tz": 180
    },
    "id": "UhbuRma4EXRN"
   },
   "outputs": [],
   "source": [
    "def calc(a, b, op='add'):\n",
    "    if op == 'add':\n",
    "        return a + b\n",
    "    elif op == 'sub':\n",
    "        return a - b\n",
    "    else:\n",
    "        print('valid operations are add and sub')"
   ]
  },
  {
   "cell_type": "code",
   "execution_count": 150,
   "metadata": {
    "colab": {
     "base_uri": "https://localhost:8080/"
    },
    "executionInfo": {
     "elapsed": 14,
     "status": "ok",
     "timestamp": 1754937050550,
     "user": {
      "displayName": "Alexsandro Oliveira Alexandrino",
      "userId": "14959848670292000444"
     },
     "user_tz": 180
    },
    "id": "msRwu-GkEXRN",
    "outputId": "6cd1c651-b991-45c9-9318-5bd344562478"
   },
   "outputs": [
    {
     "data": {
      "text/plain": [
       "14"
      ]
     },
     "execution_count": 150,
     "metadata": {},
     "output_type": "execute_result"
    }
   ],
   "source": [
    "calc(10, 4, op='add')"
   ]
  },
  {
   "cell_type": "code",
   "execution_count": 151,
   "metadata": {
    "colab": {
     "base_uri": "https://localhost:8080/"
    },
    "executionInfo": {
     "elapsed": 16,
     "status": "ok",
     "timestamp": 1754937050569,
     "user": {
      "displayName": "Alexsandro Oliveira Alexandrino",
      "userId": "14959848670292000444"
     },
     "user_tz": 180
    },
    "id": "xFxXBrjgEXRN",
    "outputId": "c02d6fce-720f-4f98-8c4d-b4de3f17433d"
   },
   "outputs": [
    {
     "data": {
      "text/plain": [
       "14"
      ]
     },
     "execution_count": 151,
     "metadata": {},
     "output_type": "execute_result"
    }
   ],
   "source": [
    "calc(10, 4, 'add')"
   ]
  },
  {
   "cell_type": "code",
   "execution_count": 152,
   "metadata": {
    "colab": {
     "base_uri": "https://localhost:8080/"
    },
    "executionInfo": {
     "elapsed": 16,
     "status": "ok",
     "timestamp": 1754937050589,
     "user": {
      "displayName": "Alexsandro Oliveira Alexandrino",
      "userId": "14959848670292000444"
     },
     "user_tz": 180
    },
    "id": "A4bpnqamEXRO",
    "outputId": "2b94c61d-3175-4cf5-b5cc-6cfb6efe23d7"
   },
   "outputs": [
    {
     "data": {
      "text/plain": [
       "14"
      ]
     },
     "execution_count": 152,
     "metadata": {},
     "output_type": "execute_result"
    }
   ],
   "source": [
    "calc(10, 4)"
   ]
  },
  {
   "cell_type": "code",
   "execution_count": 153,
   "metadata": {
    "colab": {
     "base_uri": "https://localhost:8080/"
    },
    "executionInfo": {
     "elapsed": 10,
     "status": "ok",
     "timestamp": 1754937050602,
     "user": {
      "displayName": "Alexsandro Oliveira Alexandrino",
      "userId": "14959848670292000444"
     },
     "user_tz": 180
    },
    "id": "zwhurLAWEXRO",
    "outputId": "6c0e0e5a-48b5-4b31-e21a-8a894e9ddfb1"
   },
   "outputs": [
    {
     "data": {
      "text/plain": [
       "6"
      ]
     },
     "execution_count": 153,
     "metadata": {},
     "output_type": "execute_result"
    }
   ],
   "source": [
    "calc(10, 4, op='sub')"
   ]
  },
  {
   "cell_type": "code",
   "execution_count": 154,
   "metadata": {
    "colab": {
     "base_uri": "https://localhost:8080/"
    },
    "executionInfo": {
     "elapsed": 10,
     "status": "ok",
     "timestamp": 1754937050615,
     "user": {
      "displayName": "Alexsandro Oliveira Alexandrino",
      "userId": "14959848670292000444"
     },
     "user_tz": 180
    },
    "id": "TEWcjtENEXRO",
    "outputId": "58004e46-00ba-4a5f-9793-1b3aa3b24bca"
   },
   "outputs": [
    {
     "name": "stdout",
     "output_type": "stream",
     "text": [
      "valid operations are add and sub\n"
     ]
    }
   ],
   "source": [
    "calc(10, 4, 'div')"
   ]
  },
  {
   "cell_type": "markdown",
   "metadata": {
    "id": "9-F8WaDlEXRO"
   },
   "source": [
    "**Retorna 2 valores:**"
   ]
  },
  {
   "cell_type": "code",
   "execution_count": 155,
   "metadata": {
    "executionInfo": {
     "elapsed": 2,
     "status": "ok",
     "timestamp": 1754937050620,
     "user": {
      "displayName": "Alexsandro Oliveira Alexandrino",
      "userId": "14959848670292000444"
     },
     "user_tz": 180
    },
    "id": "Xars4nJ4EXRO"
   },
   "outputs": [],
   "source": [
    "def min_max(nums):\n",
    "    return min(nums), max(nums)"
   ]
  },
  {
   "cell_type": "code",
   "execution_count": 156,
   "metadata": {
    "colab": {
     "base_uri": "https://localhost:8080/"
    },
    "executionInfo": {
     "elapsed": 12,
     "status": "ok",
     "timestamp": 1754937050636,
     "user": {
      "displayName": "Alexsandro Oliveira Alexandrino",
      "userId": "14959848670292000444"
     },
     "user_tz": 180
    },
    "id": "YmOr5By7EXRP",
    "outputId": "ad30ab82-798f-4d5d-9b04-02ca34124d31"
   },
   "outputs": [
    {
     "data": {
      "text/plain": [
       "(1, 3)"
      ]
     },
     "execution_count": 156,
     "metadata": {},
     "output_type": "execute_result"
    }
   ],
   "source": [
    "# valores retornados podem ser atribuidos a uma tupla\n",
    "nums = [1, 2, 3]\n",
    "min_max_num = min_max(nums)\n",
    "min_max_num"
   ]
  },
  {
   "cell_type": "code",
   "execution_count": 157,
   "metadata": {
    "colab": {
     "base_uri": "https://localhost:8080/"
    },
    "executionInfo": {
     "elapsed": 12,
     "status": "ok",
     "timestamp": 1754937050651,
     "user": {
      "displayName": "Alexsandro Oliveira Alexandrino",
      "userId": "14959848670292000444"
     },
     "user_tz": 180
    },
    "id": "wmDr8bF0EXRP",
    "outputId": "552ead69-5e2d-4bde-f778-19dbf8eda5e3"
   },
   "outputs": [
    {
     "name": "stdout",
     "output_type": "stream",
     "text": [
      "1\n",
      "3\n"
     ]
    }
   ],
   "source": [
    "# valores retornados podem ser atribuidos a multiplas variáveis\n",
    "min_num, max_num = min_max(nums)\n",
    "print(min_num)\n",
    "print(max_num)"
   ]
  },
  {
   "cell_type": "markdown",
   "metadata": {
    "id": "kHJRGY0tEXRP"
   },
   "source": [
    "## 11. Funções anonimas (Lambda)"
   ]
  },
  {
   "cell_type": "code",
   "execution_count": 157,
   "metadata": {
    "executionInfo": {
     "elapsed": 3,
     "status": "ok",
     "timestamp": 1754937050656,
     "user": {
      "displayName": "Alexsandro Oliveira Alexandrino",
      "userId": "14959848670292000444"
     },
     "user_tz": 180
    },
    "id": "hXokyY4FJZxM"
   },
   "outputs": [],
   "source": []
  },
  {
   "cell_type": "code",
   "execution_count": 158,
   "metadata": {
    "executionInfo": {
     "elapsed": 4,
     "status": "ok",
     "timestamp": 1754937050664,
     "user": {
      "displayName": "Alexsandro Oliveira Alexandrino",
      "userId": "14959848670292000444"
     },
     "user_tz": 180
    },
    "id": "WiR2eK27EXRP"
   },
   "outputs": [],
   "source": [
    "# forma tradicional\n",
    "def squared(x):\n",
    "    return x**2"
   ]
  },
  {
   "cell_type": "code",
   "execution_count": 159,
   "metadata": {
    "executionInfo": {
     "elapsed": 3,
     "status": "ok",
     "timestamp": 1754937050671,
     "user": {
      "displayName": "Alexsandro Oliveira Alexandrino",
      "userId": "14959848670292000444"
     },
     "user_tz": 180
    },
    "id": "6nDndG4eEXRP"
   },
   "outputs": [],
   "source": [
    "# forma anonima\n",
    "squared = lambda x: x**2"
   ]
  },
  {
   "cell_type": "markdown",
   "metadata": {
    "id": "VqiM6Qf7EXRQ"
   },
   "source": [
    "**Ordena uma lista de strings pela última letra:**"
   ]
  },
  {
   "cell_type": "code",
   "execution_count": 160,
   "metadata": {
    "colab": {
     "base_uri": "https://localhost:8080/"
    },
    "executionInfo": {
     "elapsed": 12,
     "status": "ok",
     "timestamp": 1754937050688,
     "user": {
      "displayName": "Alexsandro Oliveira Alexandrino",
      "userId": "14959848670292000444"
     },
     "user_tz": 180
    },
    "id": "z0VpCiKPEXRQ",
    "outputId": "93a0770e-9cdf-44fc-a607-4002ab113520"
   },
   "outputs": [
    {
     "data": {
      "text/plain": [
       "['marge', 'homer', 'bart']"
      ]
     },
     "execution_count": 160,
     "metadata": {},
     "output_type": "execute_result"
    }
   ],
   "source": [
    "# forma tradicional\n",
    "simpsons = ['homer', 'marge', 'bart']\n",
    "def last_letter(word):\n",
    "    return word[-1]\n",
    "sorted(simpsons, key=last_letter)"
   ]
  },
  {
   "cell_type": "code",
   "execution_count": 161,
   "metadata": {
    "colab": {
     "base_uri": "https://localhost:8080/"
    },
    "executionInfo": {
     "elapsed": 13,
     "status": "ok",
     "timestamp": 1754937050705,
     "user": {
      "displayName": "Alexsandro Oliveira Alexandrino",
      "userId": "14959848670292000444"
     },
     "user_tz": 180
    },
    "id": "gFqE6p1jEXRQ",
    "outputId": "852faefe-6c4e-4339-e2b8-17aad6bf45fc"
   },
   "outputs": [
    {
     "data": {
      "text/plain": [
       "['marge', 'homer', 'bart']"
      ]
     },
     "execution_count": 161,
     "metadata": {},
     "output_type": "execute_result"
    }
   ],
   "source": [
    "# forma anonima\n",
    "sorted(simpsons, key=lambda word: word[-1])"
   ]
  },
  {
   "cell_type": "markdown",
   "metadata": {
    "id": "fJcSRiKuEXRQ"
   },
   "source": [
    "## 12. Laços"
   ]
  },
  {
   "cell_type": "code",
   "execution_count": 162,
   "metadata": {
    "colab": {
     "base_uri": "https://localhost:8080/"
    },
    "executionInfo": {
     "elapsed": 10,
     "status": "ok",
     "timestamp": 1754937050719,
     "user": {
      "displayName": "Alexsandro Oliveira Alexandrino",
      "userId": "14959848670292000444"
     },
     "user_tz": 180
    },
    "id": "T3MbHFThEXRR",
    "outputId": "4fa906f4-a9bc-49a7-8002-14aed257567d"
   },
   "outputs": [
    {
     "data": {
      "text/plain": [
       "range(0, 3)"
      ]
     },
     "execution_count": 162,
     "metadata": {},
     "output_type": "execute_result"
    }
   ],
   "source": [
    "# inclui o valor inicial mas exclui o valor de parada\n",
    "range(0, 3)"
   ]
  },
  {
   "cell_type": "code",
   "execution_count": 163,
   "metadata": {
    "colab": {
     "base_uri": "https://localhost:8080/"
    },
    "executionInfo": {
     "elapsed": 12,
     "status": "ok",
     "timestamp": 1754937050733,
     "user": {
      "displayName": "Alexsandro Oliveira Alexandrino",
      "userId": "14959848670292000444"
     },
     "user_tz": 180
    },
    "id": "hUeVKOD7EXRR",
    "outputId": "f5b813ac-0db4-4003-fb8a-3d4241dea66e"
   },
   "outputs": [
    {
     "data": {
      "text/plain": [
       "range(0, 3)"
      ]
     },
     "execution_count": 163,
     "metadata": {},
     "output_type": "execute_result"
    }
   ],
   "source": [
    "# valor inicial padrão é 0\n",
    "range(3)"
   ]
  },
  {
   "cell_type": "code",
   "execution_count": 164,
   "metadata": {
    "colab": {
     "base_uri": "https://localhost:8080/"
    },
    "executionInfo": {
     "elapsed": 10,
     "status": "ok",
     "timestamp": 1754937050747,
     "user": {
      "displayName": "Alexsandro Oliveira Alexandrino",
      "userId": "14959848670292000444"
     },
     "user_tz": 180
    },
    "id": "6QKqMu1tEXRR",
    "outputId": "d8342a32-b9ca-4b69-9dd2-ec2bc59030c9"
   },
   "outputs": [
    {
     "data": {
      "text/plain": [
       "range(0, 5, 2)"
      ]
     },
     "execution_count": 164,
     "metadata": {},
     "output_type": "execute_result"
    }
   ],
   "source": [
    "# terceiro argumento é o passo\n",
    "range(0, 5, 2)"
   ]
  },
  {
   "cell_type": "markdown",
   "metadata": {
    "id": "p_UjWIrcEXRR"
   },
   "source": [
    "**`for`:**"
   ]
  },
  {
   "cell_type": "code",
   "execution_count": 165,
   "metadata": {
    "colab": {
     "base_uri": "https://localhost:8080/"
    },
    "executionInfo": {
     "elapsed": 12,
     "status": "ok",
     "timestamp": 1754937050762,
     "user": {
      "displayName": "Alexsandro Oliveira Alexandrino",
      "userId": "14959848670292000444"
     },
     "user_tz": 180
    },
    "id": "tFrkAy4ZEXRR",
    "outputId": "bd903279-8033-4947-f5e6-2ccae2c49240"
   },
   "outputs": [
    {
     "name": "stdout",
     "output_type": "stream",
     "text": [
      "APPLE\n",
      "BANANA\n",
      "CHERRY\n"
     ]
    },
    {
     "data": {
      "text/plain": [
       "['apple', 'banana', 'cherry']"
      ]
     },
     "execution_count": 165,
     "metadata": {},
     "output_type": "execute_result"
    }
   ],
   "source": [
    "fruits = ['apple', 'banana', 'cherry']\n",
    "for fruit in fruits:\n",
    "    print(fruit.upper())\n",
    "fruits"
   ]
  },
  {
   "cell_type": "code",
   "execution_count": 166,
   "metadata": {
    "colab": {
     "base_uri": "https://localhost:8080/"
    },
    "executionInfo": {
     "elapsed": 12,
     "status": "ok",
     "timestamp": 1754937050777,
     "user": {
      "displayName": "Alexsandro Oliveira Alexandrino",
      "userId": "14959848670292000444"
     },
     "user_tz": 180
    },
    "id": "otm72P58EXRR",
    "outputId": "4ed4643d-0d55-433b-eb2c-c0806788e87d"
   },
   "outputs": [
    {
     "name": "stdout",
     "output_type": "stream",
     "text": [
      "dad homer\n",
      "mom marge\n",
      "size 6\n"
     ]
    }
   ],
   "source": [
    "family = {'dad':'homer', 'mom':'marge', 'size':6}\n",
    "for key, value in family.items():\n",
    "    print(key, value)"
   ]
  },
  {
   "cell_type": "code",
   "execution_count": 167,
   "metadata": {
    "colab": {
     "base_uri": "https://localhost:8080/"
    },
    "executionInfo": {
     "elapsed": 11,
     "status": "ok",
     "timestamp": 1754937050791,
     "user": {
      "displayName": "Alexsandro Oliveira Alexandrino",
      "userId": "14959848670292000444"
     },
     "user_tz": 180
    },
    "id": "a1p9_jH7EXRS",
    "outputId": "f2db13da-af38-4e7a-d2ad-b1accbd5da2f"
   },
   "outputs": [
    {
     "name": "stdout",
     "output_type": "stream",
     "text": [
      "0 apple\n",
      "1 banana\n",
      "2 cherry\n"
     ]
    }
   ],
   "source": [
    "# acessando o valor de indice\n",
    "for index, fruit in enumerate(fruits):\n",
    "    print(index, fruit)"
   ]
  },
  {
   "cell_type": "markdown",
   "metadata": {
    "id": "sHQb0UZ6EXRS"
   },
   "source": [
    "**`while`:**"
   ]
  },
  {
   "cell_type": "code",
   "execution_count": 168,
   "metadata": {
    "colab": {
     "base_uri": "https://localhost:8080/"
    },
    "executionInfo": {
     "elapsed": 11,
     "status": "ok",
     "timestamp": 1754937050805,
     "user": {
      "displayName": "Alexsandro Oliveira Alexandrino",
      "userId": "14959848670292000444"
     },
     "user_tz": 180
    },
    "id": "jji2xfqEEXRS",
    "outputId": "8e16e7ba-c2b9-4699-8f0f-b2ed5db2b0c2"
   },
   "outputs": [
    {
     "name": "stdout",
     "output_type": "stream",
     "text": [
      "This will print 5 times\n",
      "This will print 5 times\n",
      "This will print 5 times\n",
      "This will print 5 times\n",
      "This will print 5 times\n"
     ]
    }
   ],
   "source": [
    "count = 0\n",
    "while count < 5:\n",
    "    print('This will print 5 times')\n",
    "    count += 1"
   ]
  },
  {
   "cell_type": "markdown",
   "metadata": {
    "id": "BHoKAIKoEXRS"
   },
   "source": [
    "**List comprehension (forma concisa de criar listas):**"
   ]
  },
  {
   "cell_type": "code",
   "execution_count": 169,
   "metadata": {
    "colab": {
     "base_uri": "https://localhost:8080/"
    },
    "executionInfo": {
     "elapsed": 9,
     "status": "ok",
     "timestamp": 1754937050818,
     "user": {
      "displayName": "Alexsandro Oliveira Alexandrino",
      "userId": "14959848670292000444"
     },
     "user_tz": 180
    },
    "id": "2Xo0TLRtEXRS",
    "outputId": "ed6b446c-e0bd-4239-866c-572bdd897b0c"
   },
   "outputs": [
    {
     "data": {
      "text/plain": [
       "[1, 8, 27, 64, 125]"
      ]
     },
     "execution_count": 169,
     "metadata": {},
     "output_type": "execute_result"
    }
   ],
   "source": [
    "nums = [1, 2, 3, 4, 5]\n",
    "cubes = []\n",
    "for num in nums:\n",
    "    cubes.append(num**3)\n",
    "cubes"
   ]
  },
  {
   "cell_type": "code",
   "execution_count": 170,
   "metadata": {
    "colab": {
     "base_uri": "https://localhost:8080/"
    },
    "executionInfo": {
     "elapsed": 11,
     "status": "ok",
     "timestamp": 1754937050834,
     "user": {
      "displayName": "Alexsandro Oliveira Alexandrino",
      "userId": "14959848670292000444"
     },
     "user_tz": 180
    },
    "id": "ugFbl7mjEXRT",
    "outputId": "5e131be1-5e9c-444b-a479-6d26d78874ec"
   },
   "outputs": [
    {
     "data": {
      "text/plain": [
       "[1, 8, 27, 64, 125]"
      ]
     },
     "execution_count": 170,
     "metadata": {},
     "output_type": "execute_result"
    }
   ],
   "source": [
    "# equivalente com list comprehension\n",
    "cubes = [num**3 for num in nums]\n",
    "cubes"
   ]
  },
  {
   "cell_type": "code",
   "execution_count": 171,
   "metadata": {
    "colab": {
     "base_uri": "https://localhost:8080/"
    },
    "executionInfo": {
     "elapsed": 10,
     "status": "ok",
     "timestamp": 1754937050847,
     "user": {
      "displayName": "Alexsandro Oliveira Alexandrino",
      "userId": "14959848670292000444"
     },
     "user_tz": 180
    },
    "id": "ldBo4tGqEXRT",
    "outputId": "dba89687-8510-4ef6-a8df-f9f71900c3d1"
   },
   "outputs": [
    {
     "data": {
      "text/plain": [
       "[1, 8, 9, 64, 25]"
      ]
     },
     "execution_count": 171,
     "metadata": {},
     "output_type": "execute_result"
    }
   ],
   "source": [
    "cubes_and_squares = []\n",
    "for num in nums:\n",
    "    if num % 2 == 0:\n",
    "        cubes_and_squares.append(num**3)\n",
    "    else:\n",
    "        cubes_and_squares.append(num**2)\n",
    "cubes_and_squares"
   ]
  },
  {
   "cell_type": "code",
   "execution_count": 172,
   "metadata": {
    "colab": {
     "base_uri": "https://localhost:8080/"
    },
    "executionInfo": {
     "elapsed": 13,
     "status": "ok",
     "timestamp": 1754937050864,
     "user": {
      "displayName": "Alexsandro Oliveira Alexandrino",
      "userId": "14959848670292000444"
     },
     "user_tz": 180
    },
    "id": "YW7XvBO8EXRT",
    "outputId": "1d410bda-ddee-4ecb-e1d2-7ff1b9c807b9"
   },
   "outputs": [
    {
     "data": {
      "text/plain": [
       "[1, 8, 9, 64, 25]"
      ]
     },
     "execution_count": 172,
     "metadata": {},
     "output_type": "execute_result"
    }
   ],
   "source": [
    "# equivalente list comprehension utilizando expressões ternárias\n",
    "cubes_and_squares = [num**3 if num % 2 == 0 else num**2 for num in nums]\n",
    "cubes_and_squares"
   ]
  },
  {
   "cell_type": "code",
   "execution_count": 173,
   "metadata": {
    "colab": {
     "base_uri": "https://localhost:8080/"
    },
    "executionInfo": {
     "elapsed": 14,
     "status": "ok",
     "timestamp": 1754937050880,
     "user": {
      "displayName": "Alexsandro Oliveira Alexandrino",
      "userId": "14959848670292000444"
     },
     "user_tz": 180
    },
    "id": "ApYM5gReEXRT",
    "outputId": "6514fef1-2d06-4221-fa28-d1093979d83d"
   },
   "outputs": [
    {
     "data": {
      "text/plain": [
       "[1, 2, 3, 4]"
      ]
     },
     "execution_count": 173,
     "metadata": {},
     "output_type": "execute_result"
    }
   ],
   "source": [
    "matrix = [[1, 2], [3, 4]]\n",
    "items = []\n",
    "for row in matrix:\n",
    "    for item in row:\n",
    "        items.append(item)\n",
    "items"
   ]
  },
  {
   "cell_type": "code",
   "execution_count": 174,
   "metadata": {
    "colab": {
     "base_uri": "https://localhost:8080/"
    },
    "executionInfo": {
     "elapsed": 15,
     "status": "ok",
     "timestamp": 1754937050893,
     "user": {
      "displayName": "Alexsandro Oliveira Alexandrino",
      "userId": "14959848670292000444"
     },
     "user_tz": 180
    },
    "id": "qYv6j1bDEXRT",
    "outputId": "46537fa9-1dce-477c-af48-d8170ef709d1"
   },
   "outputs": [
    {
     "data": {
      "text/plain": [
       "[1, 2, 3, 4]"
      ]
     },
     "execution_count": 174,
     "metadata": {},
     "output_type": "execute_result"
    }
   ],
   "source": [
    "# equivalente com list comprehension\n",
    "items = [item for row in matrix\n",
    "              for item in row]\n",
    "items"
   ]
  },
  {
   "cell_type": "markdown",
   "metadata": {
    "id": "kAvA5xP3EXRU"
   },
   "source": [
    "**Dictionary comprehension:**"
   ]
  },
  {
   "cell_type": "code",
   "execution_count": 175,
   "metadata": {
    "colab": {
     "base_uri": "https://localhost:8080/"
    },
    "executionInfo": {
     "elapsed": 14,
     "status": "ok",
     "timestamp": 1754937050911,
     "user": {
      "displayName": "Alexsandro Oliveira Alexandrino",
      "userId": "14959848670292000444"
     },
     "user_tz": 180
    },
    "id": "MWT0yKRvEXRU",
    "outputId": "65caa6a9-ab73-4c31-de38-c1feb1a0ca41"
   },
   "outputs": [
    {
     "data": {
      "text/plain": [
       "{'apple': 5, 'banana': 6, 'cherry': 6}"
      ]
     },
     "execution_count": 175,
     "metadata": {},
     "output_type": "execute_result"
    }
   ],
   "source": [
    "fruit_lengths = {fruit:len(fruit) for fruit in fruits}\n",
    "fruit_lengths"
   ]
  },
  {
   "cell_type": "code",
   "execution_count": 176,
   "metadata": {
    "colab": {
     "base_uri": "https://localhost:8080/"
    },
    "executionInfo": {
     "elapsed": 13,
     "status": "ok",
     "timestamp": 1754937050928,
     "user": {
      "displayName": "Alexsandro Oliveira Alexandrino",
      "userId": "14959848670292000444"
     },
     "user_tz": 180
    },
    "id": "xTatgQAZEXRU",
    "outputId": "df99406c-38af-4905-e7ea-f9b8ace6f58d"
   },
   "outputs": [
    {
     "data": {
      "text/plain": [
       "{'apple': 0, 'banana': 1, 'cherry': 2}"
      ]
     },
     "execution_count": 176,
     "metadata": {},
     "output_type": "execute_result"
    }
   ],
   "source": [
    "fruit_indices = {fruit:index for index, fruit in enumerate(fruits)}\n",
    "fruit_indices"
   ]
  },
  {
   "cell_type": "markdown",
   "metadata": {
    "id": "sfZg1EU-EXRU"
   },
   "source": [
    "## 13. Relative x Absolute path"
   ]
  },
  {
   "cell_type": "code",
   "execution_count": 177,
   "metadata": {
    "colab": {
     "base_uri": "https://localhost:8080/"
    },
    "executionInfo": {
     "elapsed": 12,
     "status": "ok",
     "timestamp": 1754937050943,
     "user": {
      "displayName": "Alexsandro Oliveira Alexandrino",
      "userId": "14959848670292000444"
     },
     "user_tz": 180
    },
    "id": "01Dhq7XhEXRU",
    "outputId": "786fb2b5-0dd7-4c38-b147-d8fb13cd9557"
   },
   "outputs": [
    {
     "name": "stdout",
     "output_type": "stream",
     "text": [
      "Diretório de trabalho atual  /content\n"
     ]
    }
   ],
   "source": [
    "import os\n",
    "\n",
    "print(\"Diretório de trabalho atual \" , os.getcwd())\n"
   ]
  },
  {
   "cell_type": "code",
   "execution_count": 180,
   "metadata": {
    "colab": {
     "base_uri": "https://localhost:8080/"
    },
    "executionInfo": {
     "elapsed": 70,
     "status": "ok",
     "timestamp": 1754937147608,
     "user": {
      "displayName": "Alexsandro Oliveira Alexandrino",
      "userId": "14959848670292000444"
     },
     "user_tz": 180
    },
    "id": "_Uu-fNkEEXRV",
    "outputId": "2a42233e-04fa-4bb4-d6de-374398250b2b"
   },
   "outputs": [
    {
     "name": "stdout",
     "output_type": "stream",
     "text": [
      "Writing test.csv\n"
     ]
    }
   ],
   "source": [
    "%%writefile test.csv\n",
    "nome,preco\n",
    "arroz,20\n",
    "feijao,5\n",
    "macarrao,1"
   ]
  },
  {
   "cell_type": "code",
   "execution_count": 183,
   "metadata": {
    "colab": {
     "base_uri": "https://localhost:8080/",
     "height": 143
    },
    "executionInfo": {
     "elapsed": 68,
     "status": "ok",
     "timestamp": 1754937195797,
     "user": {
      "displayName": "Alexsandro Oliveira Alexandrino",
      "userId": "14959848670292000444"
     },
     "user_tz": 180
    },
    "id": "1Os-kWqgEXRV",
    "outputId": "6cb7f9ef-fec3-4135-c6dc-cf50c4ff0b3e"
   },
   "outputs": [
    {
     "data": {
      "application/vnd.google.colaboratory.intrinsic+json": {
       "summary": "{\n  \"name\": \"data\",\n  \"rows\": 3,\n  \"fields\": [\n    {\n      \"column\": \"nome\",\n      \"properties\": {\n        \"dtype\": \"string\",\n        \"num_unique_values\": 3,\n        \"samples\": [\n          \"arroz\",\n          \"feijao\",\n          \"macarrao\"\n        ],\n        \"semantic_type\": \"\",\n        \"description\": \"\"\n      }\n    },\n    {\n      \"column\": \"preco\",\n      \"properties\": {\n        \"dtype\": \"number\",\n        \"std\": 10,\n        \"min\": 1,\n        \"max\": 20,\n        \"num_unique_values\": 3,\n        \"samples\": [\n          20,\n          5,\n          1\n        ],\n        \"semantic_type\": \"\",\n        \"description\": \"\"\n      }\n    }\n  ]\n}",
       "type": "dataframe",
       "variable_name": "data"
      },
      "text/html": [
       "\n",
       "  <div id=\"df-3def6371-cf2a-4b0b-953f-5a7a6ea23755\" class=\"colab-df-container\">\n",
       "    <div>\n",
       "<style scoped>\n",
       "    .dataframe tbody tr th:only-of-type {\n",
       "        vertical-align: middle;\n",
       "    }\n",
       "\n",
       "    .dataframe tbody tr th {\n",
       "        vertical-align: top;\n",
       "    }\n",
       "\n",
       "    .dataframe thead th {\n",
       "        text-align: right;\n",
       "    }\n",
       "</style>\n",
       "<table border=\"1\" class=\"dataframe\">\n",
       "  <thead>\n",
       "    <tr style=\"text-align: right;\">\n",
       "      <th></th>\n",
       "      <th>nome</th>\n",
       "      <th>preco</th>\n",
       "    </tr>\n",
       "  </thead>\n",
       "  <tbody>\n",
       "    <tr>\n",
       "      <th>0</th>\n",
       "      <td>arroz</td>\n",
       "      <td>20</td>\n",
       "    </tr>\n",
       "    <tr>\n",
       "      <th>1</th>\n",
       "      <td>feijao</td>\n",
       "      <td>5</td>\n",
       "    </tr>\n",
       "    <tr>\n",
       "      <th>2</th>\n",
       "      <td>macarrao</td>\n",
       "      <td>1</td>\n",
       "    </tr>\n",
       "  </tbody>\n",
       "</table>\n",
       "</div>\n",
       "    <div class=\"colab-df-buttons\">\n",
       "\n",
       "  <div class=\"colab-df-container\">\n",
       "    <button class=\"colab-df-convert\" onclick=\"convertToInteractive('df-3def6371-cf2a-4b0b-953f-5a7a6ea23755')\"\n",
       "            title=\"Convert this dataframe to an interactive table.\"\n",
       "            style=\"display:none;\">\n",
       "\n",
       "  <svg xmlns=\"http://www.w3.org/2000/svg\" height=\"24px\" viewBox=\"0 -960 960 960\">\n",
       "    <path d=\"M120-120v-720h720v720H120Zm60-500h600v-160H180v160Zm220 220h160v-160H400v160Zm0 220h160v-160H400v160ZM180-400h160v-160H180v160Zm440 0h160v-160H620v160ZM180-180h160v-160H180v160Zm440 0h160v-160H620v160Z\"/>\n",
       "  </svg>\n",
       "    </button>\n",
       "\n",
       "  <style>\n",
       "    .colab-df-container {\n",
       "      display:flex;\n",
       "      gap: 12px;\n",
       "    }\n",
       "\n",
       "    .colab-df-convert {\n",
       "      background-color: #E8F0FE;\n",
       "      border: none;\n",
       "      border-radius: 50%;\n",
       "      cursor: pointer;\n",
       "      display: none;\n",
       "      fill: #1967D2;\n",
       "      height: 32px;\n",
       "      padding: 0 0 0 0;\n",
       "      width: 32px;\n",
       "    }\n",
       "\n",
       "    .colab-df-convert:hover {\n",
       "      background-color: #E2EBFA;\n",
       "      box-shadow: 0px 1px 2px rgba(60, 64, 67, 0.3), 0px 1px 3px 1px rgba(60, 64, 67, 0.15);\n",
       "      fill: #174EA6;\n",
       "    }\n",
       "\n",
       "    .colab-df-buttons div {\n",
       "      margin-bottom: 4px;\n",
       "    }\n",
       "\n",
       "    [theme=dark] .colab-df-convert {\n",
       "      background-color: #3B4455;\n",
       "      fill: #D2E3FC;\n",
       "    }\n",
       "\n",
       "    [theme=dark] .colab-df-convert:hover {\n",
       "      background-color: #434B5C;\n",
       "      box-shadow: 0px 1px 3px 1px rgba(0, 0, 0, 0.15);\n",
       "      filter: drop-shadow(0px 1px 2px rgba(0, 0, 0, 0.3));\n",
       "      fill: #FFFFFF;\n",
       "    }\n",
       "  </style>\n",
       "\n",
       "    <script>\n",
       "      const buttonEl =\n",
       "        document.querySelector('#df-3def6371-cf2a-4b0b-953f-5a7a6ea23755 button.colab-df-convert');\n",
       "      buttonEl.style.display =\n",
       "        google.colab.kernel.accessAllowed ? 'block' : 'none';\n",
       "\n",
       "      async function convertToInteractive(key) {\n",
       "        const element = document.querySelector('#df-3def6371-cf2a-4b0b-953f-5a7a6ea23755');\n",
       "        const dataTable =\n",
       "          await google.colab.kernel.invokeFunction('convertToInteractive',\n",
       "                                                    [key], {});\n",
       "        if (!dataTable) return;\n",
       "\n",
       "        const docLinkHtml = 'Like what you see? Visit the ' +\n",
       "          '<a target=\"_blank\" href=https://colab.research.google.com/notebooks/data_table.ipynb>data table notebook</a>'\n",
       "          + ' to learn more about interactive tables.';\n",
       "        element.innerHTML = '';\n",
       "        dataTable['output_type'] = 'display_data';\n",
       "        await google.colab.output.renderOutput(dataTable, element);\n",
       "        const docLink = document.createElement('div');\n",
       "        docLink.innerHTML = docLinkHtml;\n",
       "        element.appendChild(docLink);\n",
       "      }\n",
       "    </script>\n",
       "  </div>\n",
       "\n",
       "\n",
       "    <div id=\"df-5734953c-a33a-4a4a-81dc-a1b5f526ccf0\">\n",
       "      <button class=\"colab-df-quickchart\" onclick=\"quickchart('df-5734953c-a33a-4a4a-81dc-a1b5f526ccf0')\"\n",
       "                title=\"Suggest charts\"\n",
       "                style=\"display:none;\">\n",
       "\n",
       "<svg xmlns=\"http://www.w3.org/2000/svg\" height=\"24px\"viewBox=\"0 0 24 24\"\n",
       "     width=\"24px\">\n",
       "    <g>\n",
       "        <path d=\"M19 3H5c-1.1 0-2 .9-2 2v14c0 1.1.9 2 2 2h14c1.1 0 2-.9 2-2V5c0-1.1-.9-2-2-2zM9 17H7v-7h2v7zm4 0h-2V7h2v10zm4 0h-2v-4h2v4z\"/>\n",
       "    </g>\n",
       "</svg>\n",
       "      </button>\n",
       "\n",
       "<style>\n",
       "  .colab-df-quickchart {\n",
       "      --bg-color: #E8F0FE;\n",
       "      --fill-color: #1967D2;\n",
       "      --hover-bg-color: #E2EBFA;\n",
       "      --hover-fill-color: #174EA6;\n",
       "      --disabled-fill-color: #AAA;\n",
       "      --disabled-bg-color: #DDD;\n",
       "  }\n",
       "\n",
       "  [theme=dark] .colab-df-quickchart {\n",
       "      --bg-color: #3B4455;\n",
       "      --fill-color: #D2E3FC;\n",
       "      --hover-bg-color: #434B5C;\n",
       "      --hover-fill-color: #FFFFFF;\n",
       "      --disabled-bg-color: #3B4455;\n",
       "      --disabled-fill-color: #666;\n",
       "  }\n",
       "\n",
       "  .colab-df-quickchart {\n",
       "    background-color: var(--bg-color);\n",
       "    border: none;\n",
       "    border-radius: 50%;\n",
       "    cursor: pointer;\n",
       "    display: none;\n",
       "    fill: var(--fill-color);\n",
       "    height: 32px;\n",
       "    padding: 0;\n",
       "    width: 32px;\n",
       "  }\n",
       "\n",
       "  .colab-df-quickchart:hover {\n",
       "    background-color: var(--hover-bg-color);\n",
       "    box-shadow: 0 1px 2px rgba(60, 64, 67, 0.3), 0 1px 3px 1px rgba(60, 64, 67, 0.15);\n",
       "    fill: var(--button-hover-fill-color);\n",
       "  }\n",
       "\n",
       "  .colab-df-quickchart-complete:disabled,\n",
       "  .colab-df-quickchart-complete:disabled:hover {\n",
       "    background-color: var(--disabled-bg-color);\n",
       "    fill: var(--disabled-fill-color);\n",
       "    box-shadow: none;\n",
       "  }\n",
       "\n",
       "  .colab-df-spinner {\n",
       "    border: 2px solid var(--fill-color);\n",
       "    border-color: transparent;\n",
       "    border-bottom-color: var(--fill-color);\n",
       "    animation:\n",
       "      spin 1s steps(1) infinite;\n",
       "  }\n",
       "\n",
       "  @keyframes spin {\n",
       "    0% {\n",
       "      border-color: transparent;\n",
       "      border-bottom-color: var(--fill-color);\n",
       "      border-left-color: var(--fill-color);\n",
       "    }\n",
       "    20% {\n",
       "      border-color: transparent;\n",
       "      border-left-color: var(--fill-color);\n",
       "      border-top-color: var(--fill-color);\n",
       "    }\n",
       "    30% {\n",
       "      border-color: transparent;\n",
       "      border-left-color: var(--fill-color);\n",
       "      border-top-color: var(--fill-color);\n",
       "      border-right-color: var(--fill-color);\n",
       "    }\n",
       "    40% {\n",
       "      border-color: transparent;\n",
       "      border-right-color: var(--fill-color);\n",
       "      border-top-color: var(--fill-color);\n",
       "    }\n",
       "    60% {\n",
       "      border-color: transparent;\n",
       "      border-right-color: var(--fill-color);\n",
       "    }\n",
       "    80% {\n",
       "      border-color: transparent;\n",
       "      border-right-color: var(--fill-color);\n",
       "      border-bottom-color: var(--fill-color);\n",
       "    }\n",
       "    90% {\n",
       "      border-color: transparent;\n",
       "      border-bottom-color: var(--fill-color);\n",
       "    }\n",
       "  }\n",
       "</style>\n",
       "\n",
       "      <script>\n",
       "        async function quickchart(key) {\n",
       "          const quickchartButtonEl =\n",
       "            document.querySelector('#' + key + ' button');\n",
       "          quickchartButtonEl.disabled = true;  // To prevent multiple clicks.\n",
       "          quickchartButtonEl.classList.add('colab-df-spinner');\n",
       "          try {\n",
       "            const charts = await google.colab.kernel.invokeFunction(\n",
       "                'suggestCharts', [key], {});\n",
       "          } catch (error) {\n",
       "            console.error('Error during call to suggestCharts:', error);\n",
       "          }\n",
       "          quickchartButtonEl.classList.remove('colab-df-spinner');\n",
       "          quickchartButtonEl.classList.add('colab-df-quickchart-complete');\n",
       "        }\n",
       "        (() => {\n",
       "          let quickchartButtonEl =\n",
       "            document.querySelector('#df-5734953c-a33a-4a4a-81dc-a1b5f526ccf0 button');\n",
       "          quickchartButtonEl.style.display =\n",
       "            google.colab.kernel.accessAllowed ? 'block' : 'none';\n",
       "        })();\n",
       "      </script>\n",
       "    </div>\n",
       "\n",
       "  <div id=\"id_085e1ce2-a7a6-4b75-a3a8-e8c3bb3b6797\">\n",
       "    <style>\n",
       "      .colab-df-generate {\n",
       "        background-color: #E8F0FE;\n",
       "        border: none;\n",
       "        border-radius: 50%;\n",
       "        cursor: pointer;\n",
       "        display: none;\n",
       "        fill: #1967D2;\n",
       "        height: 32px;\n",
       "        padding: 0 0 0 0;\n",
       "        width: 32px;\n",
       "      }\n",
       "\n",
       "      .colab-df-generate:hover {\n",
       "        background-color: #E2EBFA;\n",
       "        box-shadow: 0px 1px 2px rgba(60, 64, 67, 0.3), 0px 1px 3px 1px rgba(60, 64, 67, 0.15);\n",
       "        fill: #174EA6;\n",
       "      }\n",
       "\n",
       "      [theme=dark] .colab-df-generate {\n",
       "        background-color: #3B4455;\n",
       "        fill: #D2E3FC;\n",
       "      }\n",
       "\n",
       "      [theme=dark] .colab-df-generate:hover {\n",
       "        background-color: #434B5C;\n",
       "        box-shadow: 0px 1px 3px 1px rgba(0, 0, 0, 0.15);\n",
       "        filter: drop-shadow(0px 1px 2px rgba(0, 0, 0, 0.3));\n",
       "        fill: #FFFFFF;\n",
       "      }\n",
       "    </style>\n",
       "    <button class=\"colab-df-generate\" onclick=\"generateWithVariable('data')\"\n",
       "            title=\"Generate code using this dataframe.\"\n",
       "            style=\"display:none;\">\n",
       "\n",
       "  <svg xmlns=\"http://www.w3.org/2000/svg\" height=\"24px\"viewBox=\"0 0 24 24\"\n",
       "       width=\"24px\">\n",
       "    <path d=\"M7,19H8.4L18.45,9,17,7.55,7,17.6ZM5,21V16.75L18.45,3.32a2,2,0,0,1,2.83,0l1.4,1.43a1.91,1.91,0,0,1,.58,1.4,1.91,1.91,0,0,1-.58,1.4L9.25,21ZM18.45,9,17,7.55Zm-12,3A5.31,5.31,0,0,0,4.9,8.1,5.31,5.31,0,0,0,1,6.5,5.31,5.31,0,0,0,4.9,4.9,5.31,5.31,0,0,0,6.5,1,5.31,5.31,0,0,0,8.1,4.9,5.31,5.31,0,0,0,12,6.5,5.46,5.46,0,0,0,6.5,12Z\"/>\n",
       "  </svg>\n",
       "    </button>\n",
       "    <script>\n",
       "      (() => {\n",
       "      const buttonEl =\n",
       "        document.querySelector('#id_085e1ce2-a7a6-4b75-a3a8-e8c3bb3b6797 button.colab-df-generate');\n",
       "      buttonEl.style.display =\n",
       "        google.colab.kernel.accessAllowed ? 'block' : 'none';\n",
       "\n",
       "      buttonEl.onclick = () => {\n",
       "        google.colab.notebook.generateWithVariable('data');\n",
       "      }\n",
       "      })();\n",
       "    </script>\n",
       "  </div>\n",
       "\n",
       "    </div>\n",
       "  </div>\n"
      ],
      "text/plain": [
       "       nome  preco\n",
       "0     arroz     20\n",
       "1    feijao      5\n",
       "2  macarrao      1"
      ]
     },
     "execution_count": 183,
     "metadata": {},
     "output_type": "execute_result"
    }
   ],
   "source": [
    "import pandas as pd\n",
    "\n",
    "# lê um dado usando caminho relativo - sempre preferível\n",
    "data = pd.read_csv(\"test.csv\")\n",
    "\n",
    "data"
   ]
  },
  {
   "cell_type": "markdown",
   "metadata": {
    "id": "mIt749hAEXRV"
   },
   "source": [
    "## 14. Map e Filter"
   ]
  },
  {
   "cell_type": "markdown",
   "metadata": {
    "id": "N6pKqjp0EXRV"
   },
   "source": [
    "**`map` aplica uma função a cada elemento de uma sequencia e retorna um iterator:**"
   ]
  },
  {
   "cell_type": "code",
   "execution_count": 184,
   "metadata": {
    "colab": {
     "base_uri": "https://localhost:8080/"
    },
    "executionInfo": {
     "elapsed": 51,
     "status": "ok",
     "timestamp": 1754937205193,
     "user": {
      "displayName": "Alexsandro Oliveira Alexandrino",
      "userId": "14959848670292000444"
     },
     "user_tz": 180
    },
    "id": "DrgV2Az2EXRV",
    "outputId": "92d69e68-63e5-42fc-f8de-0606860bc1a1"
   },
   "outputs": [
    {
     "data": {
      "text/plain": [
       "[5, 5, 4]"
      ]
     },
     "execution_count": 184,
     "metadata": {},
     "output_type": "execute_result"
    }
   ],
   "source": [
    "simpsons = ['homer', 'marge', 'bart']\n",
    "list(map(len, simpsons))"
   ]
  },
  {
   "cell_type": "code",
   "execution_count": 185,
   "metadata": {
    "colab": {
     "base_uri": "https://localhost:8080/"
    },
    "executionInfo": {
     "elapsed": 40,
     "status": "ok",
     "timestamp": 1754937207828,
     "user": {
      "displayName": "Alexsandro Oliveira Alexandrino",
      "userId": "14959848670292000444"
     },
     "user_tz": 180
    },
    "id": "KTBSqs86EXRV",
    "outputId": "72aa7b77-7c03-41ef-93cb-cb9680ca8dfb"
   },
   "outputs": [
    {
     "data": {
      "text/plain": [
       "[5, 5, 4]"
      ]
     },
     "execution_count": 185,
     "metadata": {},
     "output_type": "execute_result"
    }
   ],
   "source": [
    "# equivalente em list comprehension\n",
    "[len(word) for word in simpsons]"
   ]
  },
  {
   "cell_type": "code",
   "execution_count": 186,
   "metadata": {
    "colab": {
     "base_uri": "https://localhost:8080/"
    },
    "executionInfo": {
     "elapsed": 43,
     "status": "ok",
     "timestamp": 1754937209345,
     "user": {
      "displayName": "Alexsandro Oliveira Alexandrino",
      "userId": "14959848670292000444"
     },
     "user_tz": 180
    },
    "id": "CdK6LzGKEXRV",
    "outputId": "5f9a173c-52ca-4fe3-f522-1d4562f0d0db"
   },
   "outputs": [
    {
     "data": {
      "text/plain": [
       "['r', 'e', 't']"
      ]
     },
     "execution_count": 186,
     "metadata": {},
     "output_type": "execute_result"
    }
   ],
   "source": [
    "list(map(lambda word: word[-1], simpsons))"
   ]
  },
  {
   "cell_type": "code",
   "execution_count": 187,
   "metadata": {
    "colab": {
     "base_uri": "https://localhost:8080/"
    },
    "executionInfo": {
     "elapsed": 13,
     "status": "ok",
     "timestamp": 1754937210638,
     "user": {
      "displayName": "Alexsandro Oliveira Alexandrino",
      "userId": "14959848670292000444"
     },
     "user_tz": 180
    },
    "id": "5QNXxSNwEXRW",
    "outputId": "064ec951-e447-47a6-f70a-c4662cb9497d"
   },
   "outputs": [
    {
     "data": {
      "text/plain": [
       "['r', 'e', 't']"
      ]
     },
     "execution_count": 187,
     "metadata": {},
     "output_type": "execute_result"
    }
   ],
   "source": [
    "# equivalente em list comprehension\n",
    "[word[-1] for word in simpsons]"
   ]
  },
  {
   "cell_type": "markdown",
   "metadata": {
    "id": "cyhaTuryEXRW"
   },
   "source": [
    "**`filter` retorna um iterator contendo os elementos de uma sequencia da qual a condição é `True`:**"
   ]
  },
  {
   "cell_type": "code",
   "execution_count": 188,
   "metadata": {
    "colab": {
     "base_uri": "https://localhost:8080/"
    },
    "executionInfo": {
     "elapsed": 13,
     "status": "ok",
     "timestamp": 1754937212299,
     "user": {
      "displayName": "Alexsandro Oliveira Alexandrino",
      "userId": "14959848670292000444"
     },
     "user_tz": 180
    },
    "id": "Zdt1SgD7EXRW",
    "outputId": "39323f2e-455a-44b5-9aeb-9d5c5fa99172"
   },
   "outputs": [
    {
     "data": {
      "text/plain": [
       "[0, 1, 2, 3, 4]"
      ]
     },
     "execution_count": 188,
     "metadata": {},
     "output_type": "execute_result"
    }
   ],
   "source": [
    "nums = range(5)\n",
    "list(nums)"
   ]
  },
  {
   "cell_type": "code",
   "execution_count": 189,
   "metadata": {
    "colab": {
     "base_uri": "https://localhost:8080/"
    },
    "executionInfo": {
     "elapsed": 11,
     "status": "ok",
     "timestamp": 1754937213490,
     "user": {
      "displayName": "Alexsandro Oliveira Alexandrino",
      "userId": "14959848670292000444"
     },
     "user_tz": 180
    },
    "id": "ncuM9I1gEXRW",
    "outputId": "82da16db-2d5f-4a2f-d6ff-74de6eefe032"
   },
   "outputs": [
    {
     "data": {
      "text/plain": [
       "[0, 2, 4]"
      ]
     },
     "execution_count": 189,
     "metadata": {},
     "output_type": "execute_result"
    }
   ],
   "source": [
    "list(filter(lambda x: x % 2 == 0, nums))"
   ]
  },
  {
   "cell_type": "code",
   "execution_count": 190,
   "metadata": {
    "colab": {
     "base_uri": "https://localhost:8080/"
    },
    "executionInfo": {
     "elapsed": 11,
     "status": "ok",
     "timestamp": 1754937215495,
     "user": {
      "displayName": "Alexsandro Oliveira Alexandrino",
      "userId": "14959848670292000444"
     },
     "user_tz": 180
    },
    "id": "4G46Ta9EEXRW",
    "outputId": "6f5d384d-ee71-49aa-f839-5958b2dbd501"
   },
   "outputs": [
    {
     "data": {
      "text/plain": [
       "[0, 2, 4]"
      ]
     },
     "execution_count": 190,
     "metadata": {},
     "output_type": "execute_result"
    }
   ],
   "source": [
    "# equivalente em list comprehension\n",
    "[num for num in nums if num % 2 == 0]"
   ]
  }
 ],
 "metadata": {
  "colab": {
   "provenance": []
  },
  "kernelspec": {
   "display_name": "Python 3",
   "language": "python",
   "name": "python3"
  },
  "language_info": {
   "codemirror_mode": {
    "name": "ipython",
    "version": 3
   },
   "file_extension": ".py",
   "mimetype": "text/x-python",
   "name": "python",
   "nbconvert_exporter": "python",
   "pygments_lexer": "ipython3",
   "version": "3.7.6"
  }
 },
 "nbformat": 4,
 "nbformat_minor": 0
}
